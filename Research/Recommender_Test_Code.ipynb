{
 "cells": [
  {
   "cell_type": "code",
   "execution_count": 1,
   "metadata": {
    "collapsed": true
   },
   "outputs": [],
   "source": [
    "import math\n",
    "import pymysql\n",
    "import pandas as pd\n",
    "\n",
    "\n",
    "import pandas as pd\n",
    "import numpy as np\n",
    "import matplotlib.pyplot as plt\n",
    "import seaborn as sns\n",
    "%matplotlib inline\n",
    "\n",
    "import wikipedia\n",
    "import spacy\n",
    "from textblob import TextBlob\n",
    "from IPython.display import Image\n",
    "\n",
    "from sklearn.ensemble import RandomForestClassifier\n",
    "from sklearn.model_selection import train_test_split, GridSearchCV\n",
    "from sklearn.metrics import confusion_matrix, classification_report\n",
    "from sklearn.feature_extraction.text import CountVectorizer\n",
    "from sklearn.decomposition import LatentDirichletAllocation\n",
    "from sklearn.feature_extraction.text import TfidfVectorizer\n",
    "from sklearn.decomposition import TruncatedSVD\n",
    "from sklearn.linear_model import LogisticRegression\n",
    "from sklearn.pipeline import Pipeline\n",
    "\n",
    "from scipy import sparse\n",
    "from sklearn.metrics import pairwise_distances\n",
    "from sklearn.metrics.pairwise import cosine_similarity"
   ]
  },
  {
   "cell_type": "code",
   "execution_count": 2,
   "metadata": {
    "collapsed": true
   },
   "outputs": [],
   "source": [
    "restaurants_df = pd.read_csv('https://raw.githubusercontent.com/Ajinth/Recommender-System/master/Research/Sample_Restaurants.csv', index_col='Users')"
   ]
  },
  {
   "cell_type": "code",
   "execution_count": 3,
   "metadata": {
    "collapsed": true
   },
   "outputs": [],
   "source": [
    "restaurants_df.fillna(value=0, inplace=True)"
   ]
  },
  {
   "cell_type": "code",
   "execution_count": 4,
   "metadata": {},
   "outputs": [
    {
     "data": {
      "text/html": [
       "<div>\n",
       "<style scoped>\n",
       "    .dataframe tbody tr th:only-of-type {\n",
       "        vertical-align: middle;\n",
       "    }\n",
       "\n",
       "    .dataframe tbody tr th {\n",
       "        vertical-align: top;\n",
       "    }\n",
       "\n",
       "    .dataframe thead th {\n",
       "        text-align: right;\n",
       "    }\n",
       "</style>\n",
       "<table border=\"1\" class=\"dataframe\">\n",
       "  <thead>\n",
       "    <tr style=\"text-align: right;\">\n",
       "      <th></th>\n",
       "      <th>Little_Donkey</th>\n",
       "      <th>Caf__Nero</th>\n",
       "      <th>India_Pavilion</th>\n",
       "      <th>Desi_Dhaba</th>\n",
       "      <th>Thai_Sensation</th>\n",
       "      <th>Dumpling_House</th>\n",
       "      <th>Caf__Luna</th>\n",
       "    </tr>\n",
       "    <tr>\n",
       "      <th>Users</th>\n",
       "      <th></th>\n",
       "      <th></th>\n",
       "      <th></th>\n",
       "      <th></th>\n",
       "      <th></th>\n",
       "      <th></th>\n",
       "      <th></th>\n",
       "    </tr>\n",
       "  </thead>\n",
       "  <tbody>\n",
       "    <tr>\n",
       "      <th>Ajinth</th>\n",
       "      <td>4.0</td>\n",
       "      <td>0.0</td>\n",
       "      <td>5.0</td>\n",
       "      <td>0.0</td>\n",
       "      <td>3.0</td>\n",
       "      <td>0.0</td>\n",
       "      <td>2.0</td>\n",
       "    </tr>\n",
       "    <tr>\n",
       "      <th>Tess</th>\n",
       "      <td>3.0</td>\n",
       "      <td>3.0</td>\n",
       "      <td>3.0</td>\n",
       "      <td>0.0</td>\n",
       "      <td>4.0</td>\n",
       "      <td>0.0</td>\n",
       "      <td>0.0</td>\n",
       "    </tr>\n",
       "    <tr>\n",
       "      <th>Jessica</th>\n",
       "      <td>4.0</td>\n",
       "      <td>3.0</td>\n",
       "      <td>0.0</td>\n",
       "      <td>0.0</td>\n",
       "      <td>2.0</td>\n",
       "      <td>0.0</td>\n",
       "      <td>1.0</td>\n",
       "    </tr>\n",
       "    <tr>\n",
       "      <th>Mark</th>\n",
       "      <td>0.0</td>\n",
       "      <td>2.0</td>\n",
       "      <td>0.0</td>\n",
       "      <td>2.0</td>\n",
       "      <td>0.0</td>\n",
       "      <td>2.0</td>\n",
       "      <td>4.0</td>\n",
       "    </tr>\n",
       "    <tr>\n",
       "      <th>Joe</th>\n",
       "      <td>5.0</td>\n",
       "      <td>0.0</td>\n",
       "      <td>5.0</td>\n",
       "      <td>0.0</td>\n",
       "      <td>8.0</td>\n",
       "      <td>0.0</td>\n",
       "      <td>8.0</td>\n",
       "    </tr>\n",
       "  </tbody>\n",
       "</table>\n",
       "</div>"
      ],
      "text/plain": [
       "          Little_Donkey  Caf__Nero  India_Pavilion  Desi_Dhaba  \\\n",
       "Users                                                            \n",
       "Ajinth              4.0        0.0             5.0         0.0   \n",
       "Tess                3.0        3.0             3.0         0.0   \n",
       "Jessica             4.0        3.0             0.0         0.0   \n",
       "Mark                0.0        2.0             0.0         2.0   \n",
       "Joe                 5.0        0.0             5.0         0.0   \n",
       "\n",
       "          Thai_Sensation  Dumpling_House   Caf__Luna  \n",
       "Users                                                 \n",
       "Ajinth               3.0              0.0        2.0  \n",
       "Tess                 4.0              0.0        0.0  \n",
       "Jessica              2.0              0.0        1.0  \n",
       "Mark                 0.0              2.0        4.0  \n",
       "Joe                  8.0              0.0        8.0  "
      ]
     },
     "execution_count": 4,
     "metadata": {},
     "output_type": "execute_result"
    }
   ],
   "source": [
    "restaurants_df.head()"
   ]
  },
  {
   "cell_type": "markdown",
   "metadata": {
    "collapsed": true
   },
   "source": [
    "# Collaborative Item to Item Filtering"
   ]
  },
  {
   "cell_type": "code",
   "execution_count": 5,
   "metadata": {
    "collapsed": true
   },
   "outputs": [],
   "source": [
    "# '''List of All Restaurants from the Dataframe'''\n",
    "# all_restaurants = list(restaurants_df.columns)\n",
    "# all_restaurants"
   ]
  },
  {
   "cell_type": "code",
   "execution_count": 6,
   "metadata": {
    "collapsed": true
   },
   "outputs": [],
   "source": [
    "# '''List of Restaurants for Ajinth'''\n",
    "# ajinth_restaurant_list = list(restaurants_df.loc['Ajinth', :] ==0)\n",
    "# ajinth_restaurant_list"
   ]
  },
  {
   "cell_type": "code",
   "execution_count": 7,
   "metadata": {
    "collapsed": true
   },
   "outputs": [],
   "source": [
    "# '''List of Restaurants that Ajinth has Rated'''\n",
    "# user_rated=[]\n",
    "# for key, a_res in enumerate(ajinth_restaurant_list):\n",
    "#     if a_res == False:\n",
    "#         user_rated.append((restaurants_df.loc['Ajinth', :] ==0).index[key])\n",
    "#     else: \n",
    "#         continue\n",
    "# print (user_rated)  "
   ]
  },
  {
   "cell_type": "code",
   "execution_count": 8,
   "metadata": {
    "collapsed": true
   },
   "outputs": [],
   "source": [
    "'''Function to return the list of restaurants rated by the user'''\n",
    "def user_rated_list(user):\n",
    "    user_rated=[]\n",
    "    for key, a_res in enumerate(ajinth_restaurant_list):\n",
    "        if a_res == False:\n",
    "            user_rated.append((restaurants_df.loc[user, :] ==0).index[key])\n",
    "        else: \n",
    "            continue\n",
    "    return user_rated   "
   ]
  },
  {
   "cell_type": "code",
   "execution_count": 9,
   "metadata": {},
   "outputs": [
    {
     "ename": "NameError",
     "evalue": "name 'ajinth_restaurant_list' is not defined",
     "output_type": "error",
     "traceback": [
      "\u001b[0;31m---------------------------------------------------------------------------\u001b[0m",
      "\u001b[0;31mNameError\u001b[0m                                 Traceback (most recent call last)",
      "\u001b[0;32m<ipython-input-9-78bc6789a764>\u001b[0m in \u001b[0;36m<module>\u001b[0;34m()\u001b[0m\n\u001b[1;32m      1\u001b[0m \u001b[0muser\u001b[0m \u001b[0;34m=\u001b[0m \u001b[0;34m'Ajinth'\u001b[0m\u001b[0;34m\u001b[0m\u001b[0m\n\u001b[0;32m----> 2\u001b[0;31m \u001b[0muser_rated_list\u001b[0m\u001b[0;34m(\u001b[0m\u001b[0muser\u001b[0m\u001b[0;34m)\u001b[0m\u001b[0;34m\u001b[0m\u001b[0m\n\u001b[0m",
      "\u001b[0;32m<ipython-input-8-f09b0f4d8d67>\u001b[0m in \u001b[0;36muser_rated_list\u001b[0;34m(user)\u001b[0m\n\u001b[1;32m      2\u001b[0m \u001b[0;32mdef\u001b[0m \u001b[0muser_rated_list\u001b[0m\u001b[0;34m(\u001b[0m\u001b[0muser\u001b[0m\u001b[0;34m)\u001b[0m\u001b[0;34m:\u001b[0m\u001b[0;34m\u001b[0m\u001b[0m\n\u001b[1;32m      3\u001b[0m     \u001b[0muser_rated\u001b[0m\u001b[0;34m=\u001b[0m\u001b[0;34m[\u001b[0m\u001b[0;34m]\u001b[0m\u001b[0;34m\u001b[0m\u001b[0m\n\u001b[0;32m----> 4\u001b[0;31m     \u001b[0;32mfor\u001b[0m \u001b[0mkey\u001b[0m\u001b[0;34m,\u001b[0m \u001b[0ma_res\u001b[0m \u001b[0;32min\u001b[0m \u001b[0menumerate\u001b[0m\u001b[0;34m(\u001b[0m\u001b[0majinth_restaurant_list\u001b[0m\u001b[0;34m)\u001b[0m\u001b[0;34m:\u001b[0m\u001b[0;34m\u001b[0m\u001b[0m\n\u001b[0m\u001b[1;32m      5\u001b[0m         \u001b[0;32mif\u001b[0m \u001b[0ma_res\u001b[0m \u001b[0;34m==\u001b[0m \u001b[0;32mFalse\u001b[0m\u001b[0;34m:\u001b[0m\u001b[0;34m\u001b[0m\u001b[0m\n\u001b[1;32m      6\u001b[0m             \u001b[0muser_rated\u001b[0m\u001b[0;34m.\u001b[0m\u001b[0mappend\u001b[0m\u001b[0;34m(\u001b[0m\u001b[0;34m(\u001b[0m\u001b[0mrestaurants_df\u001b[0m\u001b[0;34m.\u001b[0m\u001b[0mloc\u001b[0m\u001b[0;34m[\u001b[0m\u001b[0muser\u001b[0m\u001b[0;34m,\u001b[0m \u001b[0;34m:\u001b[0m\u001b[0;34m]\u001b[0m \u001b[0;34m==\u001b[0m\u001b[0;36m0\u001b[0m\u001b[0;34m)\u001b[0m\u001b[0;34m.\u001b[0m\u001b[0mindex\u001b[0m\u001b[0;34m[\u001b[0m\u001b[0mkey\u001b[0m\u001b[0;34m]\u001b[0m\u001b[0;34m)\u001b[0m\u001b[0;34m\u001b[0m\u001b[0m\n",
      "\u001b[0;31mNameError\u001b[0m: name 'ajinth_restaurant_list' is not defined"
     ]
    }
   ],
   "source": [
    "user = 'Ajinth'\n",
    "user_rated_list(user)"
   ]
  },
  {
   "cell_type": "code",
   "execution_count": null,
   "metadata": {
    "collapsed": true
   },
   "outputs": [],
   "source": [
    "# '''List of Restaurants that Ajinth has Not Rated'''\n",
    "# user_not_rated=[]\n",
    "# for key, a_res in enumerate(ajinth_restaurant_list):\n",
    "#     if a_res == True:\n",
    "#         user_not_rated.append((restaurants_df.loc['Ajinth', :] ==0).index[key])\n",
    "#     else: \n",
    "#         continue\n",
    "# print (user_not_rated) "
   ]
  },
  {
   "cell_type": "code",
   "execution_count": null,
   "metadata": {
    "collapsed": true
   },
   "outputs": [],
   "source": [
    "'''Function to return the list of restaurants yet to be rated by the user'''\n",
    "def user_not_rated_list(user):\n",
    "    user_not_rated=[]\n",
    "    for key, a_res in enumerate(ajinth_restaurant_list):\n",
    "        if a_res == True:\n",
    "            user_not_rated.append((restaurants_df.loc['Ajinth', :] ==0).index[key])\n",
    "        else: \n",
    "            continue\n",
    "    return (user_not_rated) "
   ]
  },
  {
   "cell_type": "code",
   "execution_count": null,
   "metadata": {},
   "outputs": [],
   "source": [
    "user = 'Ajinth'\n",
    "user_not_rated_list(user)"
   ]
  },
  {
   "cell_type": "code",
   "execution_count": null,
   "metadata": {
    "collapsed": true
   },
   "outputs": [],
   "source": [
    "# (restaurants_df.loc['Ajinth', :] ==0).index[0]"
   ]
  },
  {
   "cell_type": "code",
   "execution_count": null,
   "metadata": {
    "collapsed": true
   },
   "outputs": [],
   "source": [
    "'''Custom Function to calculate the Co-Similarity'''\n",
    "def cosim(v1, v2):\n",
    "    dot_product = sum(n1 * n2 for n1, n2 in zip(v1, v2) )\n",
    "    magnitude1 = math.sqrt(sum(n ** 2 for n in v1))\n",
    "    magnitude2 = math.sqrt(sum(n ** 2 for n in v2))\n",
    "    return dot_product / (magnitude1 * magnitude2)"
   ]
  },
  {
   "cell_type": "code",
   "execution_count": null,
   "metadata": {
    "collapsed": true
   },
   "outputs": [],
   "source": [
    "# '''\n",
    "# Looping through the User Restaurants and all restaurants to calculate the Matrix.\n",
    "# The results are stored in a dictionary\n",
    "# '''\n",
    "# ur_rest_dict = {}\n",
    "# for ur in user_rated: \n",
    "#     ur_cosim=[]\n",
    "#     for ar in all_restaurants: \n",
    "#         similarity = cosim(restaurants_df[ur],\\\n",
    "#                                         restaurants_df[ar])\n",
    "#         ur_cosim.append(similarity)\n",
    "#     ur_rest_dict[ur] = ur_cosim\n",
    "# # print (ur_rest_dict)"
   ]
  },
  {
   "cell_type": "code",
   "execution_count": null,
   "metadata": {
    "collapsed": true
   },
   "outputs": [],
   "source": [
    "'''This function calcultes the co-sine similarity between the restaurants rsted by the user and all the restaurants in the list'''\n",
    "def cooccurence_matrix_creator():\n",
    "    '''Calling the user rated function'''\n",
    "    user_rated_list(user)\n",
    "    \n",
    "    ur_rest_dict = {}\n",
    "    for ur in user_rated: \n",
    "        ur_cosim=[]\n",
    "        for ar in all_restaurants: \n",
    "            similarity = cosim(restaurants_df[ur],\\\n",
    "                                            restaurants_df[ar])\n",
    "            ur_cosim.append(similarity)\n",
    "        ur_rest_dict[ur] = ur_cosim\n",
    "    co_occurence_matrix = pd.DataFrame.from_dict(ur_rest_dict, orient='index')\n",
    "    co_occurence_matrix.columns=all_restaurants\n",
    "    return co_occurence_matrix"
   ]
  },
  {
   "cell_type": "code",
   "execution_count": null,
   "metadata": {},
   "outputs": [],
   "source": [
    "co_occurence_matrix.head()"
   ]
  },
  {
   "cell_type": "code",
   "execution_count": null,
   "metadata": {
    "collapsed": true
   },
   "outputs": [],
   "source": [
    "# '''Dataframe for the co-occurence matrix'''\n",
    "# co_occurence_matrix = pd.DataFrame.from_dict(ur_rest_dict, orient='index')\n",
    "# co_occurence_matrix.columns=all_restaurants\n",
    "# co_occurence_matrix"
   ]
  },
  {
   "cell_type": "markdown",
   "metadata": {},
   "source": [
    "# Review of some of the Variables"
   ]
  },
  {
   "cell_type": "code",
   "execution_count": null,
   "metadata": {},
   "outputs": [],
   "source": [
    "user_rated"
   ]
  },
  {
   "cell_type": "code",
   "execution_count": null,
   "metadata": {},
   "outputs": [],
   "source": [
    "user_not_rated"
   ]
  },
  {
   "cell_type": "code",
   "execution_count": null,
   "metadata": {},
   "outputs": [],
   "source": [
    "co_occurence_matrix"
   ]
  },
  {
   "cell_type": "code",
   "execution_count": null,
   "metadata": {},
   "outputs": [],
   "source": [
    "restaurants_df"
   ]
  },
  {
   "cell_type": "code",
   "execution_count": null,
   "metadata": {
    "collapsed": true
   },
   "outputs": [],
   "source": [
    "# type(restaurants_df.loc['Ajinth', : ])"
   ]
  },
  {
   "cell_type": "code",
   "execution_count": null,
   "metadata": {
    "collapsed": true
   },
   "outputs": [],
   "source": [
    "# restaurants_to_rate = co_occurence_matrix[user_not_rated_list(user)]\n",
    "# restaurants_to_rate"
   ]
  },
  {
   "cell_type": "code",
   "execution_count": null,
   "metadata": {
    "collapsed": true
   },
   "outputs": [],
   "source": [
    "def rest_to_rate(df):\n",
    "    restaurants_to_rate = df[user_not_rated_list(user)]\n",
    "    return restaurants_to_rate"
   ]
  },
  {
   "cell_type": "code",
   "execution_count": null,
   "metadata": {},
   "outputs": [],
   "source": [
    "rest_to_rate(co_occurence_matrix)"
   ]
  },
  {
   "cell_type": "code",
   "execution_count": null,
   "metadata": {},
   "outputs": [],
   "source": [
    "'''Calculating Predicted Score for Cafe Nero - Manual Method'''\n",
    "((0.64*4)+(.17*5) + (0.27*3) + (.17*2))/(0.64+0.17+0.27+0.17)"
   ]
  },
  {
   "cell_type": "code",
   "execution_count": null,
   "metadata": {},
   "outputs": [],
   "source": [
    "'''Calculating Predicted Score for Dumpling House - Manual Method'''\n",
    "((0.309839*4)+(2*0.194029))/(0.309839+0.194029)"
   ]
  },
  {
   "cell_type": "code",
   "execution_count": null,
   "metadata": {
    "collapsed": true
   },
   "outputs": [],
   "source": [
    "# '''Calculating the Predicted Score'''\n",
    "\n",
    "# predicted_rating_dict = {}\n",
    "# for not_rated in restaurants_to_rate.columns: \n",
    "#     column_df = pd.DataFrame(restaurants_to_rate[not_rated].sort_values(ascending=False))\n",
    "#     predicted_rating = []\n",
    "#     top_sim_list = []\n",
    "#     for top_n in range(2):   # Just getting the top two rated items \n",
    "        \n",
    "#         top_sim = column_df[not_rated][top_n]\n",
    "#         top_sim_list.append(top_sim)\n",
    "        \n",
    "#         given_rr = column_df[not_rated].index[top_n]\n",
    "#         given_rank_df = pd.DataFrame(restaurants_df.loc['Ajinth', :]) # While converting this to function the name should be an argument to the function\n",
    "#         given_rank = given_rank_df.loc[given_rr,:]\n",
    "        \n",
    "#         predicted_rating_item = float(given_rank*top_sim)\n",
    "#         predicted_rating.append(predicted_rating_item)\n",
    "#     total_sim_weight = sum(top_sim_list)\n",
    "#     adjusted_predicted_rating = (sum(predicted_rating))/total_sim_weight\n",
    "#     predicted_rating_dict[not_rated] = adjusted_predicted_rating\n",
    "# print (predicted_rating_dict)\n",
    "    \n",
    "\n"
   ]
  },
  {
   "cell_type": "code",
   "execution_count": null,
   "metadata": {
    "collapsed": true
   },
   "outputs": [],
   "source": [
    "'''Generating the prediction'''\n",
    "\n",
    "\n",
    "def rating_predictor_colab_ii():\n",
    "    predicted_rating_dict = {}\n",
    "    for not_rated in restaurants_to_rate.columns: \n",
    "        column_df = pd.DataFrame(restaurants_to_rate[not_rated].sort_values(ascending=False))\n",
    "        predicted_rating = []\n",
    "        top_sim_list = []\n",
    "        for top_n in range(2):   # Just getting the top two rated items \n",
    "\n",
    "            top_sim = column_df[not_rated][top_n]\n",
    "            top_sim_list.append(top_sim)\n",
    "\n",
    "            given_rr = column_df[not_rated].index[top_n]\n",
    "            given_rank_df = pd.DataFrame(restaurants_df.loc[user, :]) # While converting this to function the name should be an argument to the function\n",
    "            given_rank = given_rank_df.loc[given_rr,:]\n",
    "\n",
    "            predicted_rating_item = float(given_rank*top_sim)\n",
    "            predicted_rating.append(predicted_rating_item)\n",
    "        total_sim_weight = sum(top_sim_list)\n",
    "        adjusted_predicted_rating = (sum(predicted_rating))/total_sim_weight\n",
    "        predicted_rating_dict[not_rated] = adjusted_predicted_rating\n",
    "        \n",
    "    '''Creating the Dataframe in this step'''\n",
    "        \n",
    "    predicted_df = pd.DataFrame.from_dict(predicted_rating_dict, orient='index')\n",
    "    predicted_df.columns=[user]\n",
    "    return predicted_df\n",
    "#     return (predicted_rating_dict)\n"
   ]
  },
  {
   "cell_type": "code",
   "execution_count": null,
   "metadata": {},
   "outputs": [],
   "source": [
    "predicted_df"
   ]
  },
  {
   "cell_type": "code",
   "execution_count": null,
   "metadata": {
    "collapsed": true
   },
   "outputs": [],
   "source": [
    "# predicted_df = pd.DataFrame.from_dict(predicted_rating_dict, orient='index')\n",
    "# predicted_df.columns=['Ajinth']\n",
    "# predicted_df"
   ]
  },
  {
   "cell_type": "code",
   "execution_count": null,
   "metadata": {
    "collapsed": true
   },
   "outputs": [],
   "source": [
    "#End"
   ]
  },
  {
   "cell_type": "code",
   "execution_count": null,
   "metadata": {
    "collapsed": true
   },
   "outputs": [],
   "source": []
  },
  {
   "cell_type": "code",
   "execution_count": null,
   "metadata": {
    "collapsed": true
   },
   "outputs": [],
   "source": []
  }
 ],
 "metadata": {
  "kernelspec": {
   "display_name": "Python 3",
   "language": "python",
   "name": "python3"
  },
  "language_info": {
   "codemirror_mode": {
    "name": "ipython",
    "version": 3
   },
   "file_extension": ".py",
   "mimetype": "text/x-python",
   "name": "python",
   "nbconvert_exporter": "python",
   "pygments_lexer": "ipython3",
   "version": "3.6.1"
  }
 },
 "nbformat": 4,
 "nbformat_minor": 2
}
