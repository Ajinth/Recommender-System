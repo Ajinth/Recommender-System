{
 "cells": [
  {
   "cell_type": "code",
   "execution_count": 298,
   "metadata": {
    "collapsed": true
   },
   "outputs": [],
   "source": [
    "import math\n",
    "import pymysql\n",
    "import pandas as pd\n",
    "\n",
    "\n",
    "import pandas as pd\n",
    "import numpy as np\n",
    "import matplotlib.pyplot as plt\n",
    "import seaborn as sns\n",
    "%matplotlib inline\n",
    "\n",
    "import wikipedia\n",
    "import spacy\n",
    "from textblob import TextBlob\n",
    "from IPython.display import Image\n",
    "\n",
    "from sklearn.ensemble import RandomForestClassifier\n",
    "from sklearn.model_selection import train_test_split, GridSearchCV\n",
    "from sklearn.metrics import confusion_matrix, classification_report\n",
    "from sklearn.feature_extraction.text import CountVectorizer\n",
    "from sklearn.decomposition import LatentDirichletAllocation\n",
    "from sklearn.feature_extraction.text import TfidfVectorizer\n",
    "from sklearn.decomposition import TruncatedSVD\n",
    "from sklearn.linear_model import LogisticRegression\n",
    "from sklearn.pipeline import Pipeline\n",
    "\n",
    "from scipy import sparse\n",
    "from sklearn.metrics import pairwise_distances\n",
    "from sklearn.metrics.pairwise import cosine_similarity"
   ]
  },
  {
   "cell_type": "code",
   "execution_count": 299,
   "metadata": {},
   "outputs": [],
   "source": [
    "restaurants_df = pd.read_csv('https://raw.githubusercontent.com/Ajinth/Recommender-System/master/Research/Sample_Restaurants.csv', index_col='Users')"
   ]
  },
  {
   "cell_type": "code",
   "execution_count": 300,
   "metadata": {
    "collapsed": true
   },
   "outputs": [],
   "source": [
    "restaurants_df.fillna(value=0, inplace=True)"
   ]
  },
  {
   "cell_type": "code",
   "execution_count": 301,
   "metadata": {},
   "outputs": [
    {
     "data": {
      "text/html": [
       "<div>\n",
       "<style scoped>\n",
       "    .dataframe tbody tr th:only-of-type {\n",
       "        vertical-align: middle;\n",
       "    }\n",
       "\n",
       "    .dataframe tbody tr th {\n",
       "        vertical-align: top;\n",
       "    }\n",
       "\n",
       "    .dataframe thead th {\n",
       "        text-align: right;\n",
       "    }\n",
       "</style>\n",
       "<table border=\"1\" class=\"dataframe\">\n",
       "  <thead>\n",
       "    <tr style=\"text-align: right;\">\n",
       "      <th></th>\n",
       "      <th>Little_Donkey</th>\n",
       "      <th>Caf__Nero</th>\n",
       "      <th>India_Pavilion</th>\n",
       "      <th>Desi_Dhaba</th>\n",
       "      <th>Thai_Sensation</th>\n",
       "      <th>Dumpling_House</th>\n",
       "      <th>Caf__Luna</th>\n",
       "    </tr>\n",
       "    <tr>\n",
       "      <th>Users</th>\n",
       "      <th></th>\n",
       "      <th></th>\n",
       "      <th></th>\n",
       "      <th></th>\n",
       "      <th></th>\n",
       "      <th></th>\n",
       "      <th></th>\n",
       "    </tr>\n",
       "  </thead>\n",
       "  <tbody>\n",
       "    <tr>\n",
       "      <th>Ajinth</th>\n",
       "      <td>4.0</td>\n",
       "      <td>0.0</td>\n",
       "      <td>5.0</td>\n",
       "      <td>0.0</td>\n",
       "      <td>3.0</td>\n",
       "      <td>0.0</td>\n",
       "      <td>2.0</td>\n",
       "    </tr>\n",
       "    <tr>\n",
       "      <th>Tess</th>\n",
       "      <td>3.0</td>\n",
       "      <td>3.0</td>\n",
       "      <td>3.0</td>\n",
       "      <td>0.0</td>\n",
       "      <td>4.0</td>\n",
       "      <td>0.0</td>\n",
       "      <td>0.0</td>\n",
       "    </tr>\n",
       "    <tr>\n",
       "      <th>Jessica</th>\n",
       "      <td>4.0</td>\n",
       "      <td>3.0</td>\n",
       "      <td>0.0</td>\n",
       "      <td>0.0</td>\n",
       "      <td>2.0</td>\n",
       "      <td>0.0</td>\n",
       "      <td>1.0</td>\n",
       "    </tr>\n",
       "    <tr>\n",
       "      <th>Mark</th>\n",
       "      <td>0.0</td>\n",
       "      <td>2.0</td>\n",
       "      <td>0.0</td>\n",
       "      <td>2.0</td>\n",
       "      <td>0.0</td>\n",
       "      <td>2.0</td>\n",
       "      <td>4.0</td>\n",
       "    </tr>\n",
       "    <tr>\n",
       "      <th>Joe</th>\n",
       "      <td>5.0</td>\n",
       "      <td>0.0</td>\n",
       "      <td>5.0</td>\n",
       "      <td>0.0</td>\n",
       "      <td>8.0</td>\n",
       "      <td>0.0</td>\n",
       "      <td>8.0</td>\n",
       "    </tr>\n",
       "  </tbody>\n",
       "</table>\n",
       "</div>"
      ],
      "text/plain": [
       "          Little_Donkey  Caf__Nero  India_Pavilion  Desi_Dhaba  \\\n",
       "Users                                                            \n",
       "Ajinth              4.0        0.0             5.0         0.0   \n",
       "Tess                3.0        3.0             3.0         0.0   \n",
       "Jessica             4.0        3.0             0.0         0.0   \n",
       "Mark                0.0        2.0             0.0         2.0   \n",
       "Joe                 5.0        0.0             5.0         0.0   \n",
       "\n",
       "          Thai_Sensation  Dumpling_House   Caf__Luna  \n",
       "Users                                                 \n",
       "Ajinth               3.0              0.0        2.0  \n",
       "Tess                 4.0              0.0        0.0  \n",
       "Jessica              2.0              0.0        1.0  \n",
       "Mark                 0.0              2.0        4.0  \n",
       "Joe                  8.0              0.0        8.0  "
      ]
     },
     "execution_count": 301,
     "metadata": {},
     "output_type": "execute_result"
    }
   ],
   "source": [
    "restaurants_df.head()"
   ]
  },
  {
   "cell_type": "markdown",
   "metadata": {
    "collapsed": true
   },
   "source": [
    "# Collaborative Item to Item Filtering"
   ]
  },
  {
   "cell_type": "code",
   "execution_count": 302,
   "metadata": {},
   "outputs": [
    {
     "data": {
      "text/plain": [
       "['Little_Donkey',\n",
       " 'Caf__Nero',\n",
       " 'India_Pavilion',\n",
       " 'Desi_Dhaba',\n",
       " 'Thai_Sensation',\n",
       " 'Dumpling_House ',\n",
       " 'Caf__Luna']"
      ]
     },
     "execution_count": 302,
     "metadata": {},
     "output_type": "execute_result"
    }
   ],
   "source": [
    "'''List of All Restaurants from the Dataframe'''\n",
    "all_restaurants = list(restaurants_df.columns)\n",
    "all_restaurants"
   ]
  },
  {
   "cell_type": "code",
   "execution_count": 303,
   "metadata": {},
   "outputs": [
    {
     "data": {
      "text/plain": [
       "[False, True, False, True, False, True, False]"
      ]
     },
     "execution_count": 303,
     "metadata": {},
     "output_type": "execute_result"
    }
   ],
   "source": [
    "'''List of Restaurants for Ajinth'''\n",
    "ajinth_restaurant_list = list(restaurants_df.loc['Ajinth', :] ==0)\n",
    "ajinth_restaurant_list"
   ]
  },
  {
   "cell_type": "code",
   "execution_count": 304,
   "metadata": {},
   "outputs": [
    {
     "name": "stdout",
     "output_type": "stream",
     "text": [
      "['Little_Donkey', 'India_Pavilion', 'Thai_Sensation', 'Caf__Luna']\n"
     ]
    }
   ],
   "source": [
    "'''List of Restaurants that Ajinth has Rated'''\n",
    "user_rated=[]\n",
    "for key, a_res in enumerate(ajinth_restaurant_list):\n",
    "    if a_res == False:\n",
    "        user_rated.append((restaurants_df.loc['Ajinth', :] ==0).index[key])\n",
    "    else: \n",
    "        continue\n",
    "print (user_rated)  "
   ]
  },
  {
   "cell_type": "code",
   "execution_count": 305,
   "metadata": {},
   "outputs": [
    {
     "name": "stdout",
     "output_type": "stream",
     "text": [
      "['Caf__Nero', 'Desi_Dhaba', 'Dumpling_House ']\n"
     ]
    }
   ],
   "source": [
    "'''List of Restaurants that Ajinth has Not Rated'''\n",
    "user_not_rated=[]\n",
    "for key, a_res in enumerate(ajinth_restaurant_list):\n",
    "    if a_res == True:\n",
    "        user_not_rated.append((restaurants_df.loc['Ajinth', :] ==0).index[key])\n",
    "    else: \n",
    "        continue\n",
    "print (user_not_rated) "
   ]
  },
  {
   "cell_type": "code",
   "execution_count": 306,
   "metadata": {
    "collapsed": true
   },
   "outputs": [],
   "source": [
    "# (restaurants_df.loc['Ajinth', :] ==0).index[0]"
   ]
  },
  {
   "cell_type": "code",
   "execution_count": 307,
   "metadata": {},
   "outputs": [],
   "source": [
    "'''Custom Function to calculate the Co-Similarity'''\n",
    "def cosim(v1, v2):\n",
    "    dot_product = sum(n1 * n2 for n1, n2 in zip(v1, v2) )\n",
    "    magnitude1 = math.sqrt(sum(n ** 2 for n in v1))\n",
    "    magnitude2 = math.sqrt(sum(n ** 2 for n in v2))\n",
    "    return dot_product / (magnitude1 * magnitude2)"
   ]
  },
  {
   "cell_type": "code",
   "execution_count": 308,
   "metadata": {},
   "outputs": [],
   "source": [
    "'''\n",
    "Looping through the User Restaurants and all restaurants to calculate the Matrix.\n",
    "The results are stored in a dictionary\n",
    "'''\n",
    "ur_rest_dict = {}\n",
    "for ur in user_rated: \n",
    "    ur_cosim=[]\n",
    "    for ar in all_restaurants: \n",
    "        similarity = cosim(restaurants_df[ur],\\\n",
    "                                        restaurants_df[ar])\n",
    "        ur_cosim.append(similarity)\n",
    "    ur_rest_dict[ur] = ur_cosim"
   ]
  },
  {
   "cell_type": "code",
   "execution_count": 309,
   "metadata": {},
   "outputs": [
    {
     "data": {
      "text/html": [
       "<div>\n",
       "<style scoped>\n",
       "    .dataframe tbody tr th:only-of-type {\n",
       "        vertical-align: middle;\n",
       "    }\n",
       "\n",
       "    .dataframe tbody tr th {\n",
       "        vertical-align: top;\n",
       "    }\n",
       "\n",
       "    .dataframe thead th {\n",
       "        text-align: right;\n",
       "    }\n",
       "</style>\n",
       "<table border=\"1\" class=\"dataframe\">\n",
       "  <thead>\n",
       "    <tr style=\"text-align: right;\">\n",
       "      <th></th>\n",
       "      <th>Little_Donkey</th>\n",
       "      <th>Caf__Nero</th>\n",
       "      <th>India_Pavilion</th>\n",
       "      <th>Desi_Dhaba</th>\n",
       "      <th>Thai_Sensation</th>\n",
       "      <th>Dumpling_House</th>\n",
       "      <th>Caf__Luna</th>\n",
       "    </tr>\n",
       "  </thead>\n",
       "  <tbody>\n",
       "    <tr>\n",
       "      <th>Little_Donkey</th>\n",
       "      <td>1.000000</td>\n",
       "      <td>0.606349</td>\n",
       "      <td>0.811778</td>\n",
       "      <td>0.000000</td>\n",
       "      <td>0.862105</td>\n",
       "      <td>0.309839</td>\n",
       "      <td>0.651273</td>\n",
       "    </tr>\n",
       "    <tr>\n",
       "      <th>India_Pavilion</th>\n",
       "      <td>0.811778</td>\n",
       "      <td>0.170910</td>\n",
       "      <td>1.000000</td>\n",
       "      <td>0.000000</td>\n",
       "      <td>0.904497</td>\n",
       "      <td>0.000000</td>\n",
       "      <td>0.706049</td>\n",
       "    </tr>\n",
       "    <tr>\n",
       "      <th>Thai_Sensation</th>\n",
       "      <td>0.862105</td>\n",
       "      <td>0.272259</td>\n",
       "      <td>0.904497</td>\n",
       "      <td>0.000000</td>\n",
       "      <td>1.000000</td>\n",
       "      <td>0.000000</td>\n",
       "      <td>0.809807</td>\n",
       "    </tr>\n",
       "    <tr>\n",
       "      <th>Caf__Luna</th>\n",
       "      <td>0.651273</td>\n",
       "      <td>0.174034</td>\n",
       "      <td>0.706049</td>\n",
       "      <td>0.433861</td>\n",
       "      <td>0.809807</td>\n",
       "      <td>0.194029</td>\n",
       "      <td>1.000000</td>\n",
       "    </tr>\n",
       "  </tbody>\n",
       "</table>\n",
       "</div>"
      ],
      "text/plain": [
       "                Little_Donkey  Caf__Nero  India_Pavilion  Desi_Dhaba  \\\n",
       "Little_Donkey        1.000000   0.606349        0.811778    0.000000   \n",
       "India_Pavilion       0.811778   0.170910        1.000000    0.000000   \n",
       "Thai_Sensation       0.862105   0.272259        0.904497    0.000000   \n",
       "Caf__Luna            0.651273   0.174034        0.706049    0.433861   \n",
       "\n",
       "                Thai_Sensation  Dumpling_House   Caf__Luna  \n",
       "Little_Donkey         0.862105         0.309839   0.651273  \n",
       "India_Pavilion        0.904497         0.000000   0.706049  \n",
       "Thai_Sensation        1.000000         0.000000   0.809807  \n",
       "Caf__Luna             0.809807         0.194029   1.000000  "
      ]
     },
     "execution_count": 309,
     "metadata": {},
     "output_type": "execute_result"
    }
   ],
   "source": [
    "'''Dataframe for the co-occurence matrix'''\n",
    "co_occurence_matrix = pd.DataFrame.from_dict(ur_rest_dict, orient='index')\n",
    "co_occurence_matrix.columns=all_restaurants\n",
    "co_occurence_matrix"
   ]
  },
  {
   "cell_type": "code",
   "execution_count": 310,
   "metadata": {},
   "outputs": [
    {
     "data": {
      "text/plain": [
       "['Little_Donkey', 'India_Pavilion', 'Thai_Sensation', 'Caf__Luna']"
      ]
     },
     "execution_count": 310,
     "metadata": {},
     "output_type": "execute_result"
    }
   ],
   "source": [
    "user_rated"
   ]
  },
  {
   "cell_type": "code",
   "execution_count": 311,
   "metadata": {},
   "outputs": [
    {
     "data": {
      "text/plain": [
       "['Caf__Nero', 'Desi_Dhaba', 'Dumpling_House ']"
      ]
     },
     "execution_count": 311,
     "metadata": {},
     "output_type": "execute_result"
    }
   ],
   "source": [
    "user_not_rated"
   ]
  },
  {
   "cell_type": "code",
   "execution_count": 312,
   "metadata": {},
   "outputs": [
    {
     "data": {
      "text/html": [
       "<div>\n",
       "<style scoped>\n",
       "    .dataframe tbody tr th:only-of-type {\n",
       "        vertical-align: middle;\n",
       "    }\n",
       "\n",
       "    .dataframe tbody tr th {\n",
       "        vertical-align: top;\n",
       "    }\n",
       "\n",
       "    .dataframe thead th {\n",
       "        text-align: right;\n",
       "    }\n",
       "</style>\n",
       "<table border=\"1\" class=\"dataframe\">\n",
       "  <thead>\n",
       "    <tr style=\"text-align: right;\">\n",
       "      <th></th>\n",
       "      <th>Little_Donkey</th>\n",
       "      <th>Caf__Nero</th>\n",
       "      <th>India_Pavilion</th>\n",
       "      <th>Desi_Dhaba</th>\n",
       "      <th>Thai_Sensation</th>\n",
       "      <th>Dumpling_House</th>\n",
       "      <th>Caf__Luna</th>\n",
       "    </tr>\n",
       "  </thead>\n",
       "  <tbody>\n",
       "    <tr>\n",
       "      <th>Little_Donkey</th>\n",
       "      <td>1.000000</td>\n",
       "      <td>0.606349</td>\n",
       "      <td>0.811778</td>\n",
       "      <td>0.000000</td>\n",
       "      <td>0.862105</td>\n",
       "      <td>0.309839</td>\n",
       "      <td>0.651273</td>\n",
       "    </tr>\n",
       "    <tr>\n",
       "      <th>India_Pavilion</th>\n",
       "      <td>0.811778</td>\n",
       "      <td>0.170910</td>\n",
       "      <td>1.000000</td>\n",
       "      <td>0.000000</td>\n",
       "      <td>0.904497</td>\n",
       "      <td>0.000000</td>\n",
       "      <td>0.706049</td>\n",
       "    </tr>\n",
       "    <tr>\n",
       "      <th>Thai_Sensation</th>\n",
       "      <td>0.862105</td>\n",
       "      <td>0.272259</td>\n",
       "      <td>0.904497</td>\n",
       "      <td>0.000000</td>\n",
       "      <td>1.000000</td>\n",
       "      <td>0.000000</td>\n",
       "      <td>0.809807</td>\n",
       "    </tr>\n",
       "    <tr>\n",
       "      <th>Caf__Luna</th>\n",
       "      <td>0.651273</td>\n",
       "      <td>0.174034</td>\n",
       "      <td>0.706049</td>\n",
       "      <td>0.433861</td>\n",
       "      <td>0.809807</td>\n",
       "      <td>0.194029</td>\n",
       "      <td>1.000000</td>\n",
       "    </tr>\n",
       "  </tbody>\n",
       "</table>\n",
       "</div>"
      ],
      "text/plain": [
       "                Little_Donkey  Caf__Nero  India_Pavilion  Desi_Dhaba  \\\n",
       "Little_Donkey        1.000000   0.606349        0.811778    0.000000   \n",
       "India_Pavilion       0.811778   0.170910        1.000000    0.000000   \n",
       "Thai_Sensation       0.862105   0.272259        0.904497    0.000000   \n",
       "Caf__Luna            0.651273   0.174034        0.706049    0.433861   \n",
       "\n",
       "                Thai_Sensation  Dumpling_House   Caf__Luna  \n",
       "Little_Donkey         0.862105         0.309839   0.651273  \n",
       "India_Pavilion        0.904497         0.000000   0.706049  \n",
       "Thai_Sensation        1.000000         0.000000   0.809807  \n",
       "Caf__Luna             0.809807         0.194029   1.000000  "
      ]
     },
     "execution_count": 312,
     "metadata": {},
     "output_type": "execute_result"
    }
   ],
   "source": [
    "co_occurence_matrix"
   ]
  },
  {
   "cell_type": "code",
   "execution_count": 313,
   "metadata": {},
   "outputs": [
    {
     "data": {
      "text/html": [
       "<div>\n",
       "<style scoped>\n",
       "    .dataframe tbody tr th:only-of-type {\n",
       "        vertical-align: middle;\n",
       "    }\n",
       "\n",
       "    .dataframe tbody tr th {\n",
       "        vertical-align: top;\n",
       "    }\n",
       "\n",
       "    .dataframe thead th {\n",
       "        text-align: right;\n",
       "    }\n",
       "</style>\n",
       "<table border=\"1\" class=\"dataframe\">\n",
       "  <thead>\n",
       "    <tr style=\"text-align: right;\">\n",
       "      <th></th>\n",
       "      <th>Little_Donkey</th>\n",
       "      <th>Caf__Nero</th>\n",
       "      <th>India_Pavilion</th>\n",
       "      <th>Desi_Dhaba</th>\n",
       "      <th>Thai_Sensation</th>\n",
       "      <th>Dumpling_House</th>\n",
       "      <th>Caf__Luna</th>\n",
       "    </tr>\n",
       "    <tr>\n",
       "      <th>Users</th>\n",
       "      <th></th>\n",
       "      <th></th>\n",
       "      <th></th>\n",
       "      <th></th>\n",
       "      <th></th>\n",
       "      <th></th>\n",
       "      <th></th>\n",
       "    </tr>\n",
       "  </thead>\n",
       "  <tbody>\n",
       "    <tr>\n",
       "      <th>Ajinth</th>\n",
       "      <td>4.0</td>\n",
       "      <td>0.0</td>\n",
       "      <td>5.0</td>\n",
       "      <td>0.0</td>\n",
       "      <td>3.0</td>\n",
       "      <td>0.0</td>\n",
       "      <td>2.0</td>\n",
       "    </tr>\n",
       "    <tr>\n",
       "      <th>Tess</th>\n",
       "      <td>3.0</td>\n",
       "      <td>3.0</td>\n",
       "      <td>3.0</td>\n",
       "      <td>0.0</td>\n",
       "      <td>4.0</td>\n",
       "      <td>0.0</td>\n",
       "      <td>0.0</td>\n",
       "    </tr>\n",
       "    <tr>\n",
       "      <th>Jessica</th>\n",
       "      <td>4.0</td>\n",
       "      <td>3.0</td>\n",
       "      <td>0.0</td>\n",
       "      <td>0.0</td>\n",
       "      <td>2.0</td>\n",
       "      <td>0.0</td>\n",
       "      <td>1.0</td>\n",
       "    </tr>\n",
       "    <tr>\n",
       "      <th>Mark</th>\n",
       "      <td>0.0</td>\n",
       "      <td>2.0</td>\n",
       "      <td>0.0</td>\n",
       "      <td>2.0</td>\n",
       "      <td>0.0</td>\n",
       "      <td>2.0</td>\n",
       "      <td>4.0</td>\n",
       "    </tr>\n",
       "    <tr>\n",
       "      <th>Joe</th>\n",
       "      <td>5.0</td>\n",
       "      <td>0.0</td>\n",
       "      <td>5.0</td>\n",
       "      <td>0.0</td>\n",
       "      <td>8.0</td>\n",
       "      <td>0.0</td>\n",
       "      <td>8.0</td>\n",
       "    </tr>\n",
       "    <tr>\n",
       "      <th>Chris</th>\n",
       "      <td>3.0</td>\n",
       "      <td>5.0</td>\n",
       "      <td>0.0</td>\n",
       "      <td>0.0</td>\n",
       "      <td>0.0</td>\n",
       "      <td>4.0</td>\n",
       "      <td>0.0</td>\n",
       "    </tr>\n",
       "  </tbody>\n",
       "</table>\n",
       "</div>"
      ],
      "text/plain": [
       "          Little_Donkey  Caf__Nero  India_Pavilion  Desi_Dhaba  \\\n",
       "Users                                                            \n",
       "Ajinth              4.0        0.0             5.0         0.0   \n",
       "Tess                3.0        3.0             3.0         0.0   \n",
       "Jessica             4.0        3.0             0.0         0.0   \n",
       "Mark                0.0        2.0             0.0         2.0   \n",
       "Joe                 5.0        0.0             5.0         0.0   \n",
       "Chris               3.0        5.0             0.0         0.0   \n",
       "\n",
       "          Thai_Sensation  Dumpling_House   Caf__Luna  \n",
       "Users                                                 \n",
       "Ajinth               3.0              0.0        2.0  \n",
       "Tess                 4.0              0.0        0.0  \n",
       "Jessica              2.0              0.0        1.0  \n",
       "Mark                 0.0              2.0        4.0  \n",
       "Joe                  8.0              0.0        8.0  \n",
       "Chris                0.0              4.0        0.0  "
      ]
     },
     "execution_count": 313,
     "metadata": {},
     "output_type": "execute_result"
    }
   ],
   "source": [
    "restaurants_df"
   ]
  },
  {
   "cell_type": "code",
   "execution_count": 314,
   "metadata": {},
   "outputs": [
    {
     "data": {
      "text/plain": [
       "pandas.core.series.Series"
      ]
     },
     "execution_count": 314,
     "metadata": {},
     "output_type": "execute_result"
    }
   ],
   "source": [
    "type(restaurants_df.loc['Ajinth', : ])"
   ]
  },
  {
   "cell_type": "code",
   "execution_count": 315,
   "metadata": {},
   "outputs": [
    {
     "data": {
      "text/html": [
       "<div>\n",
       "<style scoped>\n",
       "    .dataframe tbody tr th:only-of-type {\n",
       "        vertical-align: middle;\n",
       "    }\n",
       "\n",
       "    .dataframe tbody tr th {\n",
       "        vertical-align: top;\n",
       "    }\n",
       "\n",
       "    .dataframe thead th {\n",
       "        text-align: right;\n",
       "    }\n",
       "</style>\n",
       "<table border=\"1\" class=\"dataframe\">\n",
       "  <thead>\n",
       "    <tr style=\"text-align: right;\">\n",
       "      <th></th>\n",
       "      <th>Caf__Nero</th>\n",
       "      <th>Desi_Dhaba</th>\n",
       "      <th>Dumpling_House</th>\n",
       "    </tr>\n",
       "  </thead>\n",
       "  <tbody>\n",
       "    <tr>\n",
       "      <th>Little_Donkey</th>\n",
       "      <td>0.606349</td>\n",
       "      <td>0.000000</td>\n",
       "      <td>0.309839</td>\n",
       "    </tr>\n",
       "    <tr>\n",
       "      <th>India_Pavilion</th>\n",
       "      <td>0.170910</td>\n",
       "      <td>0.000000</td>\n",
       "      <td>0.000000</td>\n",
       "    </tr>\n",
       "    <tr>\n",
       "      <th>Thai_Sensation</th>\n",
       "      <td>0.272259</td>\n",
       "      <td>0.000000</td>\n",
       "      <td>0.000000</td>\n",
       "    </tr>\n",
       "    <tr>\n",
       "      <th>Caf__Luna</th>\n",
       "      <td>0.174034</td>\n",
       "      <td>0.433861</td>\n",
       "      <td>0.194029</td>\n",
       "    </tr>\n",
       "  </tbody>\n",
       "</table>\n",
       "</div>"
      ],
      "text/plain": [
       "                Caf__Nero  Desi_Dhaba  Dumpling_House \n",
       "Little_Donkey    0.606349    0.000000         0.309839\n",
       "India_Pavilion   0.170910    0.000000         0.000000\n",
       "Thai_Sensation   0.272259    0.000000         0.000000\n",
       "Caf__Luna        0.174034    0.433861         0.194029"
      ]
     },
     "execution_count": 315,
     "metadata": {},
     "output_type": "execute_result"
    }
   ],
   "source": [
    "restaurants_to_rate = co_occurence_matrix[user_not_rated]\n",
    "restaurants_to_rate"
   ]
  },
  {
   "cell_type": "code",
   "execution_count": 316,
   "metadata": {},
   "outputs": [
    {
     "data": {
      "text/plain": [
       "3.6480000000000006"
      ]
     },
     "execution_count": 316,
     "metadata": {},
     "output_type": "execute_result"
    }
   ],
   "source": [
    "'''Calculating Predicted Score for Cafe Nero - Manual Method'''\n",
    "((0.64*4)+(.17*5) + (0.27*3) + (.17*2))/(0.64+0.17+0.27+0.17)"
   ]
  },
  {
   "cell_type": "code",
   "execution_count": 320,
   "metadata": {},
   "outputs": [
    {
     "data": {
      "text/plain": [
       "3.2298419427310328"
      ]
     },
     "execution_count": 320,
     "metadata": {},
     "output_type": "execute_result"
    }
   ],
   "source": [
    "'''Calculating Predicted Score for Dumpling House - Manual Method'''\n",
    "((0.309839*4)+(2*0.194029))/(0.309839+0.194029)"
   ]
  },
  {
   "cell_type": "code",
   "execution_count": 321,
   "metadata": {},
   "outputs": [
    {
     "name": "stdout",
     "output_type": "stream",
     "text": [
      "{'Caf__Nero': 3.6901248118353513, 'Desi_Dhaba': 2.0, 'Dumpling_House ': 3.2298426551391857}\n"
     ]
    }
   ],
   "source": [
    "'''Calculating the Predicted Score'''\n",
    "\n",
    "predicted_rating_dict = {}\n",
    "for not_rated in restaurants_to_rate.columns: \n",
    "    column_df = pd.DataFrame(restaurants_to_rate[not_rated].sort_values(ascending=False))\n",
    "    predicted_rating = []\n",
    "    top_sim_list = []\n",
    "    for top_n in range(2):   # Just getting the top two rated items \n",
    "        \n",
    "        top_sim = column_df[not_rated][top_n]\n",
    "        top_sim_list.append(top_sim)\n",
    "        \n",
    "        given_rr = column_df[not_rated].index[top_n]\n",
    "        given_rank_df = pd.DataFrame(restaurants_df.loc['Ajinth', :]) # While converting this to function the name should be an argument to the function\n",
    "        given_rank = given_rank_df.loc[given_rr,:]\n",
    "        \n",
    "        predicted_rating_item = float(given_rank*top_sim)\n",
    "        predicted_rating.append(predicted_rating_item)\n",
    "    total_sim_weight = sum(top_sim_list)\n",
    "    adjusted_predicted_rating = (sum(predicted_rating))/total_sim_weight\n",
    "    predicted_rating_dict[not_rated] = adjusted_predicted_rating\n",
    "print (predicted_rating_dict)\n",
    "    \n",
    "\n"
   ]
  },
  {
   "cell_type": "code",
   "execution_count": 322,
   "metadata": {},
   "outputs": [
    {
     "data": {
      "text/html": [
       "<div>\n",
       "<style scoped>\n",
       "    .dataframe tbody tr th:only-of-type {\n",
       "        vertical-align: middle;\n",
       "    }\n",
       "\n",
       "    .dataframe tbody tr th {\n",
       "        vertical-align: top;\n",
       "    }\n",
       "\n",
       "    .dataframe thead th {\n",
       "        text-align: right;\n",
       "    }\n",
       "</style>\n",
       "<table border=\"1\" class=\"dataframe\">\n",
       "  <thead>\n",
       "    <tr style=\"text-align: right;\">\n",
       "      <th></th>\n",
       "      <th>Ajinth</th>\n",
       "    </tr>\n",
       "  </thead>\n",
       "  <tbody>\n",
       "    <tr>\n",
       "      <th>Caf__Nero</th>\n",
       "      <td>3.690125</td>\n",
       "    </tr>\n",
       "    <tr>\n",
       "      <th>Desi_Dhaba</th>\n",
       "      <td>2.000000</td>\n",
       "    </tr>\n",
       "    <tr>\n",
       "      <th>Dumpling_House</th>\n",
       "      <td>3.229843</td>\n",
       "    </tr>\n",
       "  </tbody>\n",
       "</table>\n",
       "</div>"
      ],
      "text/plain": [
       "                   Ajinth\n",
       "Caf__Nero        3.690125\n",
       "Desi_Dhaba       2.000000\n",
       "Dumpling_House   3.229843"
      ]
     },
     "execution_count": 322,
     "metadata": {},
     "output_type": "execute_result"
    }
   ],
   "source": [
    "predicted_df = pd.DataFrame.from_dict(predicted_rating_dict, orient='index')\n",
    "predicted_df.columns=['Ajinth']\n",
    "predicted_df"
   ]
  },
  {
   "cell_type": "code",
   "execution_count": null,
   "metadata": {
    "collapsed": true
   },
   "outputs": [],
   "source": []
  }
 ],
 "metadata": {
  "kernelspec": {
   "display_name": "Python 3",
   "language": "python",
   "name": "python3"
  },
  "language_info": {
   "codemirror_mode": {
    "name": "ipython",
    "version": 3
   },
   "file_extension": ".py",
   "mimetype": "text/x-python",
   "name": "python",
   "nbconvert_exporter": "python",
   "pygments_lexer": "ipython3",
   "version": "3.6.1"
  }
 },
 "nbformat": 4,
 "nbformat_minor": 2
}
