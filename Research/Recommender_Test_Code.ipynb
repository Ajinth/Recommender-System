{
 "cells": [
  {
   "cell_type": "code",
   "execution_count": 110,
   "metadata": {
    "collapsed": true
   },
   "outputs": [],
   "source": [
    "import math\n",
    "import pymysql\n",
    "import pandas as pd\n",
    "import pprint\n",
    "\n",
    "\n",
    "import pandas as pd\n",
    "import numpy as np\n",
    "import matplotlib.pyplot as plt\n",
    "import seaborn as sns\n",
    "%matplotlib inline\n",
    "\n",
    "# import wikipedia\n",
    "import spacy\n",
    "from textblob import TextBlob\n",
    "from IPython.display import Image\n",
    "from collections import defaultdict\n",
    "\n",
    "from sklearn.ensemble import RandomForestClassifier\n",
    "from sklearn.model_selection import train_test_split, GridSearchCV\n",
    "from sklearn.metrics import confusion_matrix, classification_report\n",
    "from sklearn.feature_extraction.text import CountVectorizer\n",
    "from sklearn.decomposition import LatentDirichletAllocation\n",
    "from sklearn.feature_extraction.text import TfidfVectorizer\n",
    "from sklearn.decomposition import TruncatedSVD\n",
    "from sklearn.linear_model import LogisticRegression\n",
    "from sklearn.pipeline import Pipeline\n",
    "\n",
    "from scipy import sparse\n",
    "from sklearn.metrics import pairwise_distances\n",
    "from sklearn.metrics.pairwise import cosine_similarity"
   ]
  },
  {
   "cell_type": "code",
   "execution_count": 111,
   "metadata": {
    "collapsed": true
   },
   "outputs": [],
   "source": [
    "restaurants_df = pd.read_csv('https://raw.githubusercontent.com/Ajinth/Recommender-System/master/Research/Sample_Restaurants.csv', index_col='Users')"
   ]
  },
  {
   "cell_type": "code",
   "execution_count": 112,
   "metadata": {
    "collapsed": true
   },
   "outputs": [],
   "source": [
    "restaurants_df.fillna(value=0, inplace=True)"
   ]
  },
  {
   "cell_type": "code",
   "execution_count": 113,
   "metadata": {},
   "outputs": [
    {
     "data": {
      "text/html": [
       "<div>\n",
       "<style scoped>\n",
       "    .dataframe tbody tr th:only-of-type {\n",
       "        vertical-align: middle;\n",
       "    }\n",
       "\n",
       "    .dataframe tbody tr th {\n",
       "        vertical-align: top;\n",
       "    }\n",
       "\n",
       "    .dataframe thead th {\n",
       "        text-align: right;\n",
       "    }\n",
       "</style>\n",
       "<table border=\"1\" class=\"dataframe\">\n",
       "  <thead>\n",
       "    <tr style=\"text-align: right;\">\n",
       "      <th></th>\n",
       "      <th>Little_Donkey</th>\n",
       "      <th>Caf__Nero</th>\n",
       "      <th>India_Pavilion</th>\n",
       "      <th>Desi_Dhaba</th>\n",
       "      <th>Thai_Sensation</th>\n",
       "      <th>Dumpling_House</th>\n",
       "      <th>Caf__Luna</th>\n",
       "    </tr>\n",
       "    <tr>\n",
       "      <th>Users</th>\n",
       "      <th></th>\n",
       "      <th></th>\n",
       "      <th></th>\n",
       "      <th></th>\n",
       "      <th></th>\n",
       "      <th></th>\n",
       "      <th></th>\n",
       "    </tr>\n",
       "  </thead>\n",
       "  <tbody>\n",
       "    <tr>\n",
       "      <th>Ajinth</th>\n",
       "      <td>4.0</td>\n",
       "      <td>0.0</td>\n",
       "      <td>5.0</td>\n",
       "      <td>0.0</td>\n",
       "      <td>3.0</td>\n",
       "      <td>0.0</td>\n",
       "      <td>2.0</td>\n",
       "    </tr>\n",
       "    <tr>\n",
       "      <th>Tess</th>\n",
       "      <td>3.0</td>\n",
       "      <td>3.0</td>\n",
       "      <td>3.0</td>\n",
       "      <td>0.0</td>\n",
       "      <td>4.0</td>\n",
       "      <td>0.0</td>\n",
       "      <td>0.0</td>\n",
       "    </tr>\n",
       "    <tr>\n",
       "      <th>Jessica</th>\n",
       "      <td>4.0</td>\n",
       "      <td>3.0</td>\n",
       "      <td>0.0</td>\n",
       "      <td>0.0</td>\n",
       "      <td>2.0</td>\n",
       "      <td>0.0</td>\n",
       "      <td>1.0</td>\n",
       "    </tr>\n",
       "    <tr>\n",
       "      <th>Mark</th>\n",
       "      <td>0.0</td>\n",
       "      <td>2.0</td>\n",
       "      <td>0.0</td>\n",
       "      <td>2.0</td>\n",
       "      <td>0.0</td>\n",
       "      <td>2.0</td>\n",
       "      <td>4.0</td>\n",
       "    </tr>\n",
       "    <tr>\n",
       "      <th>Joe</th>\n",
       "      <td>5.0</td>\n",
       "      <td>0.0</td>\n",
       "      <td>5.0</td>\n",
       "      <td>0.0</td>\n",
       "      <td>8.0</td>\n",
       "      <td>0.0</td>\n",
       "      <td>8.0</td>\n",
       "    </tr>\n",
       "  </tbody>\n",
       "</table>\n",
       "</div>"
      ],
      "text/plain": [
       "          Little_Donkey  Caf__Nero  India_Pavilion  Desi_Dhaba  \\\n",
       "Users                                                            \n",
       "Ajinth              4.0        0.0             5.0         0.0   \n",
       "Tess                3.0        3.0             3.0         0.0   \n",
       "Jessica             4.0        3.0             0.0         0.0   \n",
       "Mark                0.0        2.0             0.0         2.0   \n",
       "Joe                 5.0        0.0             5.0         0.0   \n",
       "\n",
       "          Thai_Sensation  Dumpling_House   Caf__Luna  \n",
       "Users                                                 \n",
       "Ajinth               3.0              0.0        2.0  \n",
       "Tess                 4.0              0.0        0.0  \n",
       "Jessica              2.0              0.0        1.0  \n",
       "Mark                 0.0              2.0        4.0  \n",
       "Joe                  8.0              0.0        8.0  "
      ]
     },
     "execution_count": 113,
     "metadata": {},
     "output_type": "execute_result"
    }
   ],
   "source": [
    "restaurants_df.head()"
   ]
  },
  {
   "cell_type": "code",
   "execution_count": 114,
   "metadata": {},
   "outputs": [
    {
     "data": {
      "text/html": [
       "<div>\n",
       "<style scoped>\n",
       "    .dataframe tbody tr th:only-of-type {\n",
       "        vertical-align: middle;\n",
       "    }\n",
       "\n",
       "    .dataframe tbody tr th {\n",
       "        vertical-align: top;\n",
       "    }\n",
       "\n",
       "    .dataframe thead th {\n",
       "        text-align: right;\n",
       "    }\n",
       "</style>\n",
       "<table border=\"1\" class=\"dataframe\">\n",
       "  <thead>\n",
       "    <tr style=\"text-align: right;\">\n",
       "      <th></th>\n",
       "      <th>Little_Donkey</th>\n",
       "      <th>Caf__Nero</th>\n",
       "      <th>India_Pavilion</th>\n",
       "      <th>Desi_Dhaba</th>\n",
       "      <th>Thai_Sensation</th>\n",
       "      <th>Dumpling_House</th>\n",
       "      <th>Caf__Luna</th>\n",
       "    </tr>\n",
       "    <tr>\n",
       "      <th>Users</th>\n",
       "      <th></th>\n",
       "      <th></th>\n",
       "      <th></th>\n",
       "      <th></th>\n",
       "      <th></th>\n",
       "      <th></th>\n",
       "      <th></th>\n",
       "    </tr>\n",
       "  </thead>\n",
       "  <tbody>\n",
       "    <tr>\n",
       "      <th>Ajinth</th>\n",
       "      <td>4.0</td>\n",
       "      <td>0.0</td>\n",
       "      <td>5.0</td>\n",
       "      <td>0.0</td>\n",
       "      <td>3.0</td>\n",
       "      <td>0.0</td>\n",
       "      <td>2.0</td>\n",
       "    </tr>\n",
       "  </tbody>\n",
       "</table>\n",
       "</div>"
      ],
      "text/plain": [
       "        Little_Donkey  Caf__Nero  India_Pavilion  Desi_Dhaba  Thai_Sensation  \\\n",
       "Users                                                                          \n",
       "Ajinth            4.0        0.0             5.0         0.0             3.0   \n",
       "\n",
       "        Dumpling_House   Caf__Luna  \n",
       "Users                               \n",
       "Ajinth              0.0        2.0  "
      ]
     },
     "execution_count": 114,
     "metadata": {},
     "output_type": "execute_result"
    }
   ],
   "source": [
    "restaurants_df.loc[restaurants_df.index=='Ajinth']"
   ]
  },
  {
   "cell_type": "code",
   "execution_count": 115,
   "metadata": {},
   "outputs": [
    {
     "data": {
      "text/html": [
       "<div>\n",
       "<style scoped>\n",
       "    .dataframe tbody tr th:only-of-type {\n",
       "        vertical-align: middle;\n",
       "    }\n",
       "\n",
       "    .dataframe tbody tr th {\n",
       "        vertical-align: top;\n",
       "    }\n",
       "\n",
       "    .dataframe thead th {\n",
       "        text-align: right;\n",
       "    }\n",
       "</style>\n",
       "<table border=\"1\" class=\"dataframe\">\n",
       "  <thead>\n",
       "    <tr style=\"text-align: right;\">\n",
       "      <th></th>\n",
       "      <th>Little_Donkey</th>\n",
       "      <th>Caf__Nero</th>\n",
       "      <th>India_Pavilion</th>\n",
       "      <th>Desi_Dhaba</th>\n",
       "      <th>Thai_Sensation</th>\n",
       "      <th>Dumpling_House</th>\n",
       "      <th>Caf__Luna</th>\n",
       "    </tr>\n",
       "    <tr>\n",
       "      <th>Users</th>\n",
       "      <th></th>\n",
       "      <th></th>\n",
       "      <th></th>\n",
       "      <th></th>\n",
       "      <th></th>\n",
       "      <th></th>\n",
       "      <th></th>\n",
       "    </tr>\n",
       "  </thead>\n",
       "  <tbody>\n",
       "    <tr>\n",
       "      <th>Ajinth</th>\n",
       "      <td>4.0</td>\n",
       "      <td>0.0</td>\n",
       "      <td>5.0</td>\n",
       "      <td>0.0</td>\n",
       "      <td>3.0</td>\n",
       "      <td>0.0</td>\n",
       "      <td>2.0</td>\n",
       "    </tr>\n",
       "    <tr>\n",
       "      <th>Tess</th>\n",
       "      <td>3.0</td>\n",
       "      <td>3.0</td>\n",
       "      <td>3.0</td>\n",
       "      <td>0.0</td>\n",
       "      <td>4.0</td>\n",
       "      <td>0.0</td>\n",
       "      <td>0.0</td>\n",
       "    </tr>\n",
       "    <tr>\n",
       "      <th>Jessica</th>\n",
       "      <td>4.0</td>\n",
       "      <td>3.0</td>\n",
       "      <td>0.0</td>\n",
       "      <td>0.0</td>\n",
       "      <td>2.0</td>\n",
       "      <td>0.0</td>\n",
       "      <td>1.0</td>\n",
       "    </tr>\n",
       "    <tr>\n",
       "      <th>Mark</th>\n",
       "      <td>0.0</td>\n",
       "      <td>2.0</td>\n",
       "      <td>0.0</td>\n",
       "      <td>2.0</td>\n",
       "      <td>0.0</td>\n",
       "      <td>2.0</td>\n",
       "      <td>4.0</td>\n",
       "    </tr>\n",
       "    <tr>\n",
       "      <th>Joe</th>\n",
       "      <td>5.0</td>\n",
       "      <td>0.0</td>\n",
       "      <td>5.0</td>\n",
       "      <td>0.0</td>\n",
       "      <td>8.0</td>\n",
       "      <td>0.0</td>\n",
       "      <td>8.0</td>\n",
       "    </tr>\n",
       "    <tr>\n",
       "      <th>Chris</th>\n",
       "      <td>3.0</td>\n",
       "      <td>5.0</td>\n",
       "      <td>0.0</td>\n",
       "      <td>0.0</td>\n",
       "      <td>0.0</td>\n",
       "      <td>4.0</td>\n",
       "      <td>0.0</td>\n",
       "    </tr>\n",
       "  </tbody>\n",
       "</table>\n",
       "</div>"
      ],
      "text/plain": [
       "          Little_Donkey  Caf__Nero  India_Pavilion  Desi_Dhaba  \\\n",
       "Users                                                            \n",
       "Ajinth              4.0        0.0             5.0         0.0   \n",
       "Tess                3.0        3.0             3.0         0.0   \n",
       "Jessica             4.0        3.0             0.0         0.0   \n",
       "Mark                0.0        2.0             0.0         2.0   \n",
       "Joe                 5.0        0.0             5.0         0.0   \n",
       "Chris               3.0        5.0             0.0         0.0   \n",
       "\n",
       "          Thai_Sensation  Dumpling_House   Caf__Luna  \n",
       "Users                                                 \n",
       "Ajinth               3.0              0.0        2.0  \n",
       "Tess                 4.0              0.0        0.0  \n",
       "Jessica              2.0              0.0        1.0  \n",
       "Mark                 0.0              2.0        4.0  \n",
       "Joe                  8.0              0.0        8.0  \n",
       "Chris                0.0              4.0        0.0  "
      ]
     },
     "execution_count": 115,
     "metadata": {},
     "output_type": "execute_result"
    }
   ],
   "source": [
    "restaurants_df[(restaurants_df > 0).any(axis=1)]"
   ]
  },
  {
   "cell_type": "code",
   "execution_count": null,
   "metadata": {
    "collapsed": true
   },
   "outputs": [],
   "source": []
  },
  {
   "cell_type": "markdown",
   "metadata": {
    "collapsed": true
   },
   "source": [
    "# Collaborative Item to Item Filtering"
   ]
  },
  {
   "cell_type": "code",
   "execution_count": 116,
   "metadata": {},
   "outputs": [
    {
     "data": {
      "text/plain": [
       "['Little_Donkey',\n",
       " 'Caf__Nero',\n",
       " 'India_Pavilion',\n",
       " 'Desi_Dhaba',\n",
       " 'Thai_Sensation',\n",
       " 'Dumpling_House ',\n",
       " 'Caf__Luna']"
      ]
     },
     "execution_count": 116,
     "metadata": {},
     "output_type": "execute_result"
    }
   ],
   "source": [
    "'''List of All Restaurants from the Dataframe'''\n",
    "all_restaurants = list(restaurants_df.columns)\n",
    "all_restaurants"
   ]
  },
  {
   "cell_type": "code",
   "execution_count": 117,
   "metadata": {
    "collapsed": true
   },
   "outputs": [],
   "source": [
    "user = 'Tess'"
   ]
  },
  {
   "cell_type": "code",
   "execution_count": 118,
   "metadata": {
    "collapsed": true
   },
   "outputs": [],
   "source": [
    "'''Function to return the list of restaurants rated by the user'''\n",
    "def user_rated_list(user):\n",
    "    user_rated=[]\n",
    "    for key, a_res in enumerate(list(restaurants_df.loc[user, :] ==0)):\n",
    "        if a_res == False:\n",
    "            user_rated.append((restaurants_df.loc[user, :] ==0).index[key])\n",
    "        else: \n",
    "            continue\n",
    "    return user_rated   "
   ]
  },
  {
   "cell_type": "code",
   "execution_count": 119,
   "metadata": {},
   "outputs": [
    {
     "data": {
      "text/plain": [
       "['Little_Donkey', 'Caf__Nero', 'India_Pavilion', 'Thai_Sensation']"
      ]
     },
     "execution_count": 119,
     "metadata": {},
     "output_type": "execute_result"
    }
   ],
   "source": [
    "\n",
    "user_rated = user_rated_list(user)\n",
    "user_rated"
   ]
  },
  {
   "cell_type": "code",
   "execution_count": 120,
   "metadata": {
    "collapsed": true
   },
   "outputs": [],
   "source": [
    "'''Function to return the list of restaurants yet to be rated by the user'''\n",
    "def user_not_rated_list(user):\n",
    "    user_not_rated=[]\n",
    "    for key, a_res in enumerate(list(restaurants_df.loc[user, :] ==0)):\n",
    "        if a_res == True:\n",
    "            user_not_rated.append((restaurants_df.loc[user, :] ==0).index[key])\n",
    "        else: \n",
    "            continue\n",
    "    return (user_not_rated) "
   ]
  },
  {
   "cell_type": "code",
   "execution_count": 121,
   "metadata": {},
   "outputs": [
    {
     "data": {
      "text/plain": [
       "['Desi_Dhaba', 'Dumpling_House ', 'Caf__Luna']"
      ]
     },
     "execution_count": 121,
     "metadata": {},
     "output_type": "execute_result"
    }
   ],
   "source": [
    "user_not_rated = user_not_rated_list(user)\n",
    "user_not_rated"
   ]
  },
  {
   "cell_type": "code",
   "execution_count": 122,
   "metadata": {
    "collapsed": true
   },
   "outputs": [],
   "source": [
    "'''Custom Function to calculate the Co-Similarity'''\n",
    "def cosim(v1, v2):\n",
    "    dot_product = sum(n1 * n2 for n1, n2 in zip(v1, v2) )\n",
    "    magnitude1 = math.sqrt(sum(n ** 2 for n in v1))\n",
    "    magnitude2 = math.sqrt(sum(n ** 2 for n in v2))\n",
    "    return dot_product / (magnitude1 * magnitude2)"
   ]
  },
  {
   "cell_type": "code",
   "execution_count": 123,
   "metadata": {
    "collapsed": true
   },
   "outputs": [],
   "source": [
    "'''This function calcultes the co-sine similarity between the restaurants rsted by the user and all the restaurants in the list'''\n",
    "def cooccurence_matrix_creator():\n",
    "    '''Calling the user rated function'''\n",
    "    user_rated = user_rated_list(user)\n",
    "    ur_rest_dict = {}\n",
    "    for ur in user_rated: \n",
    "        ur_cosim=[]\n",
    "        for ar in list(restaurants_df.columns): \n",
    "            similarity = cosim(restaurants_df[ur],\\\n",
    "                                            restaurants_df[ar])\n",
    "            ur_cosim.append(similarity)\n",
    "        ur_rest_dict[ur] = ur_cosim\n",
    "    co_occurence_matrix = pd.DataFrame.from_dict(ur_rest_dict, orient='index')\n",
    "    co_occurence_matrix.columns=list(restaurants_df.columns)\n",
    "    return co_occurence_matrix"
   ]
  },
  {
   "cell_type": "code",
   "execution_count": 124,
   "metadata": {},
   "outputs": [
    {
     "data": {
      "text/html": [
       "<div>\n",
       "<style scoped>\n",
       "    .dataframe tbody tr th:only-of-type {\n",
       "        vertical-align: middle;\n",
       "    }\n",
       "\n",
       "    .dataframe tbody tr th {\n",
       "        vertical-align: top;\n",
       "    }\n",
       "\n",
       "    .dataframe thead th {\n",
       "        text-align: right;\n",
       "    }\n",
       "</style>\n",
       "<table border=\"1\" class=\"dataframe\">\n",
       "  <thead>\n",
       "    <tr style=\"text-align: right;\">\n",
       "      <th></th>\n",
       "      <th>Little_Donkey</th>\n",
       "      <th>Caf__Nero</th>\n",
       "      <th>India_Pavilion</th>\n",
       "      <th>Desi_Dhaba</th>\n",
       "      <th>Thai_Sensation</th>\n",
       "      <th>Dumpling_House</th>\n",
       "      <th>Caf__Luna</th>\n",
       "    </tr>\n",
       "  </thead>\n",
       "  <tbody>\n",
       "    <tr>\n",
       "      <th>Little_Donkey</th>\n",
       "      <td>1.000000</td>\n",
       "      <td>0.606349</td>\n",
       "      <td>0.811778</td>\n",
       "      <td>0.00000</td>\n",
       "      <td>0.862105</td>\n",
       "      <td>0.309839</td>\n",
       "      <td>0.651273</td>\n",
       "    </tr>\n",
       "    <tr>\n",
       "      <th>Caf__Nero</th>\n",
       "      <td>0.606349</td>\n",
       "      <td>1.000000</td>\n",
       "      <td>0.170910</td>\n",
       "      <td>0.29173</td>\n",
       "      <td>0.272259</td>\n",
       "      <td>0.782794</td>\n",
       "      <td>0.174034</td>\n",
       "    </tr>\n",
       "    <tr>\n",
       "      <th>India_Pavilion</th>\n",
       "      <td>0.811778</td>\n",
       "      <td>0.170910</td>\n",
       "      <td>1.000000</td>\n",
       "      <td>0.00000</td>\n",
       "      <td>0.904497</td>\n",
       "      <td>0.000000</td>\n",
       "      <td>0.706049</td>\n",
       "    </tr>\n",
       "    <tr>\n",
       "      <th>Thai_Sensation</th>\n",
       "      <td>0.862105</td>\n",
       "      <td>0.272259</td>\n",
       "      <td>0.904497</td>\n",
       "      <td>0.00000</td>\n",
       "      <td>1.000000</td>\n",
       "      <td>0.000000</td>\n",
       "      <td>0.809807</td>\n",
       "    </tr>\n",
       "  </tbody>\n",
       "</table>\n",
       "</div>"
      ],
      "text/plain": [
       "                Little_Donkey  Caf__Nero  India_Pavilion  Desi_Dhaba  \\\n",
       "Little_Donkey        1.000000   0.606349        0.811778     0.00000   \n",
       "Caf__Nero            0.606349   1.000000        0.170910     0.29173   \n",
       "India_Pavilion       0.811778   0.170910        1.000000     0.00000   \n",
       "Thai_Sensation       0.862105   0.272259        0.904497     0.00000   \n",
       "\n",
       "                Thai_Sensation  Dumpling_House   Caf__Luna  \n",
       "Little_Donkey         0.862105         0.309839   0.651273  \n",
       "Caf__Nero             0.272259         0.782794   0.174034  \n",
       "India_Pavilion        0.904497         0.000000   0.706049  \n",
       "Thai_Sensation        1.000000         0.000000   0.809807  "
      ]
     },
     "execution_count": 124,
     "metadata": {},
     "output_type": "execute_result"
    }
   ],
   "source": [
    "co_occurence_matrix = cooccurence_matrix_creator()\n",
    "co_occurence_matrix.head()"
   ]
  },
  {
   "cell_type": "markdown",
   "metadata": {},
   "source": [
    "# Review of some of the Variables"
   ]
  },
  {
   "cell_type": "code",
   "execution_count": 125,
   "metadata": {},
   "outputs": [
    {
     "data": {
      "text/plain": [
       "['Little_Donkey', 'Caf__Nero', 'India_Pavilion', 'Thai_Sensation']"
      ]
     },
     "execution_count": 125,
     "metadata": {},
     "output_type": "execute_result"
    }
   ],
   "source": [
    "user_rated"
   ]
  },
  {
   "cell_type": "code",
   "execution_count": 126,
   "metadata": {},
   "outputs": [
    {
     "data": {
      "text/plain": [
       "['Desi_Dhaba', 'Dumpling_House ', 'Caf__Luna']"
      ]
     },
     "execution_count": 126,
     "metadata": {},
     "output_type": "execute_result"
    }
   ],
   "source": [
    "user_not_rated"
   ]
  },
  {
   "cell_type": "code",
   "execution_count": 127,
   "metadata": {},
   "outputs": [
    {
     "data": {
      "text/html": [
       "<div>\n",
       "<style scoped>\n",
       "    .dataframe tbody tr th:only-of-type {\n",
       "        vertical-align: middle;\n",
       "    }\n",
       "\n",
       "    .dataframe tbody tr th {\n",
       "        vertical-align: top;\n",
       "    }\n",
       "\n",
       "    .dataframe thead th {\n",
       "        text-align: right;\n",
       "    }\n",
       "</style>\n",
       "<table border=\"1\" class=\"dataframe\">\n",
       "  <thead>\n",
       "    <tr style=\"text-align: right;\">\n",
       "      <th></th>\n",
       "      <th>Little_Donkey</th>\n",
       "      <th>Caf__Nero</th>\n",
       "      <th>India_Pavilion</th>\n",
       "      <th>Desi_Dhaba</th>\n",
       "      <th>Thai_Sensation</th>\n",
       "      <th>Dumpling_House</th>\n",
       "      <th>Caf__Luna</th>\n",
       "    </tr>\n",
       "  </thead>\n",
       "  <tbody>\n",
       "    <tr>\n",
       "      <th>Little_Donkey</th>\n",
       "      <td>1.000000</td>\n",
       "      <td>0.606349</td>\n",
       "      <td>0.811778</td>\n",
       "      <td>0.00000</td>\n",
       "      <td>0.862105</td>\n",
       "      <td>0.309839</td>\n",
       "      <td>0.651273</td>\n",
       "    </tr>\n",
       "    <tr>\n",
       "      <th>Caf__Nero</th>\n",
       "      <td>0.606349</td>\n",
       "      <td>1.000000</td>\n",
       "      <td>0.170910</td>\n",
       "      <td>0.29173</td>\n",
       "      <td>0.272259</td>\n",
       "      <td>0.782794</td>\n",
       "      <td>0.174034</td>\n",
       "    </tr>\n",
       "    <tr>\n",
       "      <th>India_Pavilion</th>\n",
       "      <td>0.811778</td>\n",
       "      <td>0.170910</td>\n",
       "      <td>1.000000</td>\n",
       "      <td>0.00000</td>\n",
       "      <td>0.904497</td>\n",
       "      <td>0.000000</td>\n",
       "      <td>0.706049</td>\n",
       "    </tr>\n",
       "    <tr>\n",
       "      <th>Thai_Sensation</th>\n",
       "      <td>0.862105</td>\n",
       "      <td>0.272259</td>\n",
       "      <td>0.904497</td>\n",
       "      <td>0.00000</td>\n",
       "      <td>1.000000</td>\n",
       "      <td>0.000000</td>\n",
       "      <td>0.809807</td>\n",
       "    </tr>\n",
       "  </tbody>\n",
       "</table>\n",
       "</div>"
      ],
      "text/plain": [
       "                Little_Donkey  Caf__Nero  India_Pavilion  Desi_Dhaba  \\\n",
       "Little_Donkey        1.000000   0.606349        0.811778     0.00000   \n",
       "Caf__Nero            0.606349   1.000000        0.170910     0.29173   \n",
       "India_Pavilion       0.811778   0.170910        1.000000     0.00000   \n",
       "Thai_Sensation       0.862105   0.272259        0.904497     0.00000   \n",
       "\n",
       "                Thai_Sensation  Dumpling_House   Caf__Luna  \n",
       "Little_Donkey         0.862105         0.309839   0.651273  \n",
       "Caf__Nero             0.272259         0.782794   0.174034  \n",
       "India_Pavilion        0.904497         0.000000   0.706049  \n",
       "Thai_Sensation        1.000000         0.000000   0.809807  "
      ]
     },
     "execution_count": 127,
     "metadata": {},
     "output_type": "execute_result"
    }
   ],
   "source": [
    "co_occurence_matrix"
   ]
  },
  {
   "cell_type": "code",
   "execution_count": 128,
   "metadata": {
    "collapsed": true
   },
   "outputs": [],
   "source": [
    "def rest_to_rate(df):\n",
    "    restaurants_to_rate = df[user_not_rated_list(user)]\n",
    "    return restaurants_to_rate"
   ]
  },
  {
   "cell_type": "code",
   "execution_count": 129,
   "metadata": {},
   "outputs": [
    {
     "data": {
      "text/html": [
       "<div>\n",
       "<style scoped>\n",
       "    .dataframe tbody tr th:only-of-type {\n",
       "        vertical-align: middle;\n",
       "    }\n",
       "\n",
       "    .dataframe tbody tr th {\n",
       "        vertical-align: top;\n",
       "    }\n",
       "\n",
       "    .dataframe thead th {\n",
       "        text-align: right;\n",
       "    }\n",
       "</style>\n",
       "<table border=\"1\" class=\"dataframe\">\n",
       "  <thead>\n",
       "    <tr style=\"text-align: right;\">\n",
       "      <th></th>\n",
       "      <th>Desi_Dhaba</th>\n",
       "      <th>Dumpling_House</th>\n",
       "      <th>Caf__Luna</th>\n",
       "    </tr>\n",
       "  </thead>\n",
       "  <tbody>\n",
       "    <tr>\n",
       "      <th>Little_Donkey</th>\n",
       "      <td>0.00000</td>\n",
       "      <td>0.309839</td>\n",
       "      <td>0.651273</td>\n",
       "    </tr>\n",
       "    <tr>\n",
       "      <th>Caf__Nero</th>\n",
       "      <td>0.29173</td>\n",
       "      <td>0.782794</td>\n",
       "      <td>0.174034</td>\n",
       "    </tr>\n",
       "    <tr>\n",
       "      <th>India_Pavilion</th>\n",
       "      <td>0.00000</td>\n",
       "      <td>0.000000</td>\n",
       "      <td>0.706049</td>\n",
       "    </tr>\n",
       "    <tr>\n",
       "      <th>Thai_Sensation</th>\n",
       "      <td>0.00000</td>\n",
       "      <td>0.000000</td>\n",
       "      <td>0.809807</td>\n",
       "    </tr>\n",
       "  </tbody>\n",
       "</table>\n",
       "</div>"
      ],
      "text/plain": [
       "                Desi_Dhaba  Dumpling_House   Caf__Luna\n",
       "Little_Donkey      0.00000         0.309839   0.651273\n",
       "Caf__Nero          0.29173         0.782794   0.174034\n",
       "India_Pavilion     0.00000         0.000000   0.706049\n",
       "Thai_Sensation     0.00000         0.000000   0.809807"
      ]
     },
     "execution_count": 129,
     "metadata": {},
     "output_type": "execute_result"
    }
   ],
   "source": [
    "restaurants_to_rate = rest_to_rate(co_occurence_matrix)\n",
    "restaurants_to_rate"
   ]
  },
  {
   "cell_type": "code",
   "execution_count": 130,
   "metadata": {
    "collapsed": true
   },
   "outputs": [],
   "source": [
    "'''Generating the prediction'''\n",
    "\n",
    "def rating_predictor_colab_ii():\n",
    "    predicted_rating_dict = {}\n",
    "    for not_rated in restaurants_to_rate.columns: \n",
    "        column_df = pd.DataFrame(restaurants_to_rate[not_rated].sort_values(ascending=False))\n",
    "        predicted_rating = []\n",
    "        top_sim_list = []\n",
    "        for top_n in range(2):   \n",
    "\n",
    "            top_sim = column_df[not_rated][top_n]\n",
    "            top_sim_list.append(top_sim)\n",
    "\n",
    "            given_rr = column_df[not_rated].index[top_n]\n",
    "            given_rank_df = pd.DataFrame(restaurants_df.loc[user, :]) # While converting this to function the name should be an argument to the function\n",
    "            given_rank = given_rank_df.loc[given_rr,:]\n",
    "\n",
    "            predicted_rating_item = float(given_rank*top_sim)\n",
    "            predicted_rating.append(predicted_rating_item)\n",
    "        total_sim_weight = sum(top_sim_list)\n",
    "        adjusted_predicted_rating = (sum(predicted_rating))/total_sim_weight\n",
    "        predicted_rating_dict[not_rated] = adjusted_predicted_rating\n",
    "        \n",
    "    '''Creating the Dataframe in this step'''\n",
    "        \n",
    "    predicted_df = pd.DataFrame.from_dict(predicted_rating_dict, orient='index')\n",
    "    predicted_df.columns=[user]\n",
    "    return predicted_df\n",
    "#     return (predicted_rating_dict)\n"
   ]
  },
  {
   "cell_type": "code",
   "execution_count": 131,
   "metadata": {},
   "outputs": [
    {
     "data": {
      "text/html": [
       "<div>\n",
       "<style scoped>\n",
       "    .dataframe tbody tr th:only-of-type {\n",
       "        vertical-align: middle;\n",
       "    }\n",
       "\n",
       "    .dataframe tbody tr th {\n",
       "        vertical-align: top;\n",
       "    }\n",
       "\n",
       "    .dataframe thead th {\n",
       "        text-align: right;\n",
       "    }\n",
       "</style>\n",
       "<table border=\"1\" class=\"dataframe\">\n",
       "  <thead>\n",
       "    <tr style=\"text-align: right;\">\n",
       "      <th></th>\n",
       "      <th>Tess</th>\n",
       "    </tr>\n",
       "  </thead>\n",
       "  <tbody>\n",
       "    <tr>\n",
       "      <th>Desi_Dhaba</th>\n",
       "      <td>3.000000</td>\n",
       "    </tr>\n",
       "    <tr>\n",
       "      <th>Dumpling_House</th>\n",
       "      <td>3.000000</td>\n",
       "    </tr>\n",
       "    <tr>\n",
       "      <th>Caf__Luna</th>\n",
       "      <td>3.534224</td>\n",
       "    </tr>\n",
       "  </tbody>\n",
       "</table>\n",
       "</div>"
      ],
      "text/plain": [
       "                     Tess\n",
       "Desi_Dhaba       3.000000\n",
       "Dumpling_House   3.000000\n",
       "Caf__Luna        3.534224"
      ]
     },
     "execution_count": 131,
     "metadata": {},
     "output_type": "execute_result"
    }
   ],
   "source": [
    "predicted_df = rating_predictor_colab_ii()\n",
    "predicted_df.head()"
   ]
  },
  {
   "cell_type": "code",
   "execution_count": 132,
   "metadata": {
    "collapsed": true
   },
   "outputs": [],
   "source": [
    "'''Generating the prediction - All in One Function'''\n",
    "\n",
    "def rating_predictor_colab_ii_all():\n",
    "    \n",
    "    predicted_rating_dict = {}\n",
    "    \n",
    "#     user_rated = user_rated_list(user)\n",
    "#     user_not_rated = user_not_rated_list(user)\n",
    "#     \n",
    "    co_occurence_matrix = cooccurence_matrix_creator()\n",
    "    restaurants_to_rate = rest_to_rate(co_occurence_matrix)\n",
    "    \n",
    "    for not_rated in restaurants_to_rate.columns: \n",
    "        column_df = pd.DataFrame(restaurants_to_rate[not_rated].sort_values(ascending=False))\n",
    "        predicted_rating = []\n",
    "        top_sim_list = []\n",
    "        for top_n in range(2):   \n",
    "\n",
    "            top_sim = column_df[not_rated][top_n]\n",
    "            top_sim_list.append(top_sim)\n",
    "\n",
    "            given_rr = column_df[not_rated].index[top_n]\n",
    "            given_rank_df = pd.DataFrame(restaurants_df.loc[user, :]) # While converting this to function the name should be an argument to the function\n",
    "            given_rank = given_rank_df.loc[given_rr,:]\n",
    "\n",
    "            predicted_rating_item = float(given_rank*top_sim)\n",
    "            predicted_rating.append(predicted_rating_item)\n",
    "        total_sim_weight = sum(top_sim_list)\n",
    "        adjusted_predicted_rating = (sum(predicted_rating))/total_sim_weight\n",
    "        predicted_rating_dict[not_rated] = adjusted_predicted_rating\n",
    "        \n",
    "    '''Creating the Dataframe in this step'''\n",
    "        \n",
    "    predicted_df = pd.DataFrame.from_dict(predicted_rating_dict, orient='index')\n",
    "    predicted_df.columns=[user]\n",
    "    return predicted_df\n",
    "#     return (predicted_rating_dict)"
   ]
  },
  {
   "cell_type": "code",
   "execution_count": 133,
   "metadata": {
    "collapsed": true
   },
   "outputs": [],
   "source": [
    "'''Testing the function to deal with users who have rated only one restaurant'''\n",
    "\n",
    "'''Collaborative Item-Item filtering function to make predictions'''\n",
    "\n",
    "def rating_predictor_colab_ii_all():\n",
    "    \n",
    "    predicted_rating_dict = {}\n",
    "    \n",
    "#     user_rated = user_rated_list(user)\n",
    "#     user_not_rated = user_not_rated_list(user)\n",
    "     \n",
    "    co_occurence_matrix = cooccurence_matrix_creator()\n",
    "    restaurants_to_rate = rest_to_rate(co_occurence_matrix)\n",
    "    \n",
    "    for not_rated in restaurants_to_rate.columns: \n",
    "        column_df = pd.DataFrame(restaurants_to_rate[not_rated].sort_values(ascending=False))\n",
    "        predicted_rating = []\n",
    "        top_sim_list = []\n",
    "        if column_df.shape[0] == 1: \n",
    "            top_sim = column_df[not_rated]\n",
    "            \n",
    "#             print ('Top Sim: ', top_sim)\n",
    "            top_sim_list.append(top_sim)\n",
    "\n",
    "            given_rr = column_df[not_rated].index\n",
    "#             print ('Given RR:', given_rr)\n",
    "            \n",
    "            given_rank_df = pd.DataFrame(restaurants_df.loc[user, :]) # While converting this to function the name should be an argument to the function\n",
    "            given_rank = float((given_rank_df.loc[given_rr,:]).get_values())\n",
    "#             print ('Given Rank:',type(given_rank))\n",
    "\n",
    "            adjusted_predicted_rating = float(given_rank*top_sim)\n",
    "            predicted_rating_dict[not_rated] = adjusted_predicted_rating\n",
    "             \n",
    "        else: \n",
    "            for top_n in range(co_occurence_matrix.shape[0]):   \n",
    "\n",
    "                top_sim = column_df[not_rated][top_n]\n",
    "#                 print ('Top Sim: ', top_sim)\n",
    "                top_sim_list.append(top_sim)\n",
    "\n",
    "                given_rr = column_df[not_rated].index[top_n]\n",
    "#                 print ('Given RR:', given_rr)\n",
    "                \n",
    "                given_rank_df = pd.DataFrame(restaurants_df.loc[user, :]) # While converting this to function the name should be an argument to the function\n",
    "                given_rank = given_rank_df.loc[given_rr,:]\n",
    "#                 print ('Given Rank:',type(given_rank))\n",
    "\n",
    "                predicted_rating_item = float(given_rank*top_sim)\n",
    "                predicted_rating.append(predicted_rating_item)\n",
    "            total_sim_weight = sum(top_sim_list)\n",
    "            adjusted_predicted_rating = (sum(predicted_rating))/total_sim_weight\n",
    "            predicted_rating_dict[not_rated] = adjusted_predicted_rating\n",
    "        \n",
    "    '''Creating the Dataframe in this step'''\n",
    "        \n",
    "    predicted_df = pd.DataFrame.from_dict(predicted_rating_dict, orient='index')\n",
    "    predicted_df.fillna(0, inplace=True)\n",
    "    predicted_df.columns=[user]\n",
    "    predicted_df.sort_values([user], ascending=False, inplace=True)\n",
    "    return predicted_df\n"
   ]
  },
  {
   "cell_type": "code",
   "execution_count": 134,
   "metadata": {},
   "outputs": [
    {
     "data": {
      "text/html": [
       "<div>\n",
       "<style scoped>\n",
       "    .dataframe tbody tr th:only-of-type {\n",
       "        vertical-align: middle;\n",
       "    }\n",
       "\n",
       "    .dataframe tbody tr th {\n",
       "        vertical-align: top;\n",
       "    }\n",
       "\n",
       "    .dataframe thead th {\n",
       "        text-align: right;\n",
       "    }\n",
       "</style>\n",
       "<table border=\"1\" class=\"dataframe\">\n",
       "  <thead>\n",
       "    <tr style=\"text-align: right;\">\n",
       "      <th></th>\n",
       "      <th>Tess</th>\n",
       "    </tr>\n",
       "  </thead>\n",
       "  <tbody>\n",
       "    <tr>\n",
       "      <th>Caf__Luna</th>\n",
       "      <td>3.345899</td>\n",
       "    </tr>\n",
       "    <tr>\n",
       "      <th>Desi_Dhaba</th>\n",
       "      <td>3.000000</td>\n",
       "    </tr>\n",
       "    <tr>\n",
       "      <th>Dumpling_House</th>\n",
       "      <td>3.000000</td>\n",
       "    </tr>\n",
       "  </tbody>\n",
       "</table>\n",
       "</div>"
      ],
      "text/plain": [
       "                     Tess\n",
       "Caf__Luna        3.345899\n",
       "Desi_Dhaba       3.000000\n",
       "Dumpling_House   3.000000"
      ]
     },
     "execution_count": 134,
     "metadata": {},
     "output_type": "execute_result"
    }
   ],
   "source": [
    "predicted_df = rating_predictor_colab_ii_all()\n",
    "predicted_df.head()"
   ]
  },
  {
   "cell_type": "markdown",
   "metadata": {
    "collapsed": true
   },
   "source": [
    "# Collaborative User to User Filtering"
   ]
  },
  {
   "cell_type": "code",
   "execution_count": 135,
   "metadata": {},
   "outputs": [
    {
     "data": {
      "text/html": [
       "<div>\n",
       "<style scoped>\n",
       "    .dataframe tbody tr th:only-of-type {\n",
       "        vertical-align: middle;\n",
       "    }\n",
       "\n",
       "    .dataframe tbody tr th {\n",
       "        vertical-align: top;\n",
       "    }\n",
       "\n",
       "    .dataframe thead th {\n",
       "        text-align: right;\n",
       "    }\n",
       "</style>\n",
       "<table border=\"1\" class=\"dataframe\">\n",
       "  <thead>\n",
       "    <tr style=\"text-align: right;\">\n",
       "      <th></th>\n",
       "      <th>Little_Donkey</th>\n",
       "      <th>Caf__Nero</th>\n",
       "      <th>India_Pavilion</th>\n",
       "      <th>Desi_Dhaba</th>\n",
       "      <th>Thai_Sensation</th>\n",
       "      <th>Dumpling_House</th>\n",
       "      <th>Caf__Luna</th>\n",
       "    </tr>\n",
       "    <tr>\n",
       "      <th>Users</th>\n",
       "      <th></th>\n",
       "      <th></th>\n",
       "      <th></th>\n",
       "      <th></th>\n",
       "      <th></th>\n",
       "      <th></th>\n",
       "      <th></th>\n",
       "    </tr>\n",
       "  </thead>\n",
       "  <tbody>\n",
       "    <tr>\n",
       "      <th>Ajinth</th>\n",
       "      <td>4.0</td>\n",
       "      <td>0.0</td>\n",
       "      <td>5.0</td>\n",
       "      <td>0.0</td>\n",
       "      <td>3.0</td>\n",
       "      <td>0.0</td>\n",
       "      <td>2.0</td>\n",
       "    </tr>\n",
       "    <tr>\n",
       "      <th>Tess</th>\n",
       "      <td>3.0</td>\n",
       "      <td>3.0</td>\n",
       "      <td>3.0</td>\n",
       "      <td>0.0</td>\n",
       "      <td>4.0</td>\n",
       "      <td>0.0</td>\n",
       "      <td>0.0</td>\n",
       "    </tr>\n",
       "    <tr>\n",
       "      <th>Jessica</th>\n",
       "      <td>4.0</td>\n",
       "      <td>3.0</td>\n",
       "      <td>0.0</td>\n",
       "      <td>0.0</td>\n",
       "      <td>2.0</td>\n",
       "      <td>0.0</td>\n",
       "      <td>1.0</td>\n",
       "    </tr>\n",
       "    <tr>\n",
       "      <th>Mark</th>\n",
       "      <td>0.0</td>\n",
       "      <td>2.0</td>\n",
       "      <td>0.0</td>\n",
       "      <td>2.0</td>\n",
       "      <td>0.0</td>\n",
       "      <td>2.0</td>\n",
       "      <td>4.0</td>\n",
       "    </tr>\n",
       "    <tr>\n",
       "      <th>Joe</th>\n",
       "      <td>5.0</td>\n",
       "      <td>0.0</td>\n",
       "      <td>5.0</td>\n",
       "      <td>0.0</td>\n",
       "      <td>8.0</td>\n",
       "      <td>0.0</td>\n",
       "      <td>8.0</td>\n",
       "    </tr>\n",
       "    <tr>\n",
       "      <th>Chris</th>\n",
       "      <td>3.0</td>\n",
       "      <td>5.0</td>\n",
       "      <td>0.0</td>\n",
       "      <td>0.0</td>\n",
       "      <td>0.0</td>\n",
       "      <td>4.0</td>\n",
       "      <td>0.0</td>\n",
       "    </tr>\n",
       "  </tbody>\n",
       "</table>\n",
       "</div>"
      ],
      "text/plain": [
       "          Little_Donkey  Caf__Nero  India_Pavilion  Desi_Dhaba  \\\n",
       "Users                                                            \n",
       "Ajinth              4.0        0.0             5.0         0.0   \n",
       "Tess                3.0        3.0             3.0         0.0   \n",
       "Jessica             4.0        3.0             0.0         0.0   \n",
       "Mark                0.0        2.0             0.0         2.0   \n",
       "Joe                 5.0        0.0             5.0         0.0   \n",
       "Chris               3.0        5.0             0.0         0.0   \n",
       "\n",
       "          Thai_Sensation  Dumpling_House   Caf__Luna  \n",
       "Users                                                 \n",
       "Ajinth               3.0              0.0        2.0  \n",
       "Tess                 4.0              0.0        0.0  \n",
       "Jessica              2.0              0.0        1.0  \n",
       "Mark                 0.0              2.0        4.0  \n",
       "Joe                  8.0              0.0        8.0  \n",
       "Chris                0.0              4.0        0.0  "
      ]
     },
     "execution_count": 135,
     "metadata": {},
     "output_type": "execute_result"
    }
   ],
   "source": [
    "restaurants_df"
   ]
  },
  {
   "cell_type": "code",
   "execution_count": 136,
   "metadata": {
    "collapsed": true
   },
   "outputs": [],
   "source": [
    "# user_rated"
   ]
  },
  {
   "cell_type": "code",
   "execution_count": 137,
   "metadata": {
    "collapsed": true
   },
   "outputs": [],
   "source": [
    "# user_not_rated"
   ]
  },
  {
   "cell_type": "code",
   "execution_count": 138,
   "metadata": {
    "collapsed": true
   },
   "outputs": [],
   "source": [
    "'''This function calcultes the co-sine similarity between different users for the user-user collaborative filtering model'''\n",
    "\n",
    "def user_cooccurence_matrix_creator():\n",
    "    user_dict = {}\n",
    "    user_columns = []\n",
    "    user_cosim=[]\n",
    "    \n",
    "    for ur in restaurants_df.iterrows(): \n",
    "        if ur[0] == user: \n",
    "            continue \n",
    "        else: \n",
    "            user_similarity = cosim(restaurants_df.loc[ur[0],:].values, restaurants_df.loc[user,:].values)\n",
    "            user_cosim.append(user_similarity)\n",
    "            user_columns.append(ur[0])\n",
    "    user_dict[user] = user_cosim\n",
    "    \n",
    "    user_df = pd.DataFrame.from_dict(user_dict, orient='index')\n",
    "    user_df.columns = user_columns\n",
    "    return user_df\n",
    "    \n"
   ]
  },
  {
   "cell_type": "code",
   "execution_count": 139,
   "metadata": {},
   "outputs": [
    {
     "data": {
      "text/html": [
       "<div>\n",
       "<style scoped>\n",
       "    .dataframe tbody tr th:only-of-type {\n",
       "        vertical-align: middle;\n",
       "    }\n",
       "\n",
       "    .dataframe tbody tr th {\n",
       "        vertical-align: top;\n",
       "    }\n",
       "\n",
       "    .dataframe thead th {\n",
       "        text-align: right;\n",
       "    }\n",
       "</style>\n",
       "<table border=\"1\" class=\"dataframe\">\n",
       "  <thead>\n",
       "    <tr style=\"text-align: right;\">\n",
       "      <th></th>\n",
       "      <th>Ajinth</th>\n",
       "      <th>Jessica</th>\n",
       "      <th>Mark</th>\n",
       "      <th>Joe</th>\n",
       "      <th>Chris</th>\n",
       "    </tr>\n",
       "  </thead>\n",
       "  <tbody>\n",
       "    <tr>\n",
       "      <th>Tess</th>\n",
       "      <td>0.809345</td>\n",
       "      <td>0.807427</td>\n",
       "      <td>0.172917</td>\n",
       "      <td>0.708676</td>\n",
       "      <td>0.517597</td>\n",
       "    </tr>\n",
       "  </tbody>\n",
       "</table>\n",
       "</div>"
      ],
      "text/plain": [
       "        Ajinth  Jessica       Mark       Joe     Chris\n",
       "Tess  0.809345  0.807427  0.172917  0.708676  0.517597"
      ]
     },
     "execution_count": 139,
     "metadata": {},
     "output_type": "execute_result"
    }
   ],
   "source": [
    "ur_coocurence_df = user_cooccurence_matrix_creator()\n",
    "ur_coocurence_df"
   ]
  },
  {
   "cell_type": "code",
   "execution_count": 140,
   "metadata": {},
   "outputs": [
    {
     "data": {
      "text/html": [
       "<div>\n",
       "<style scoped>\n",
       "    .dataframe tbody tr th:only-of-type {\n",
       "        vertical-align: middle;\n",
       "    }\n",
       "\n",
       "    .dataframe tbody tr th {\n",
       "        vertical-align: top;\n",
       "    }\n",
       "\n",
       "    .dataframe thead th {\n",
       "        text-align: right;\n",
       "    }\n",
       "</style>\n",
       "<table border=\"1\" class=\"dataframe\">\n",
       "  <thead>\n",
       "    <tr style=\"text-align: right;\">\n",
       "      <th></th>\n",
       "      <th>Ajinth</th>\n",
       "      <th>Jessica</th>\n",
       "      <th>Mark</th>\n",
       "      <th>Joe</th>\n",
       "      <th>Chris</th>\n",
       "    </tr>\n",
       "  </thead>\n",
       "  <tbody>\n",
       "    <tr>\n",
       "      <th>Tess</th>\n",
       "      <td>0.809345</td>\n",
       "      <td>0.807427</td>\n",
       "      <td>0.172917</td>\n",
       "      <td>0.708676</td>\n",
       "      <td>0.517597</td>\n",
       "    </tr>\n",
       "  </tbody>\n",
       "</table>\n",
       "</div>"
      ],
      "text/plain": [
       "        Ajinth  Jessica       Mark       Joe     Chris\n",
       "Tess  0.809345  0.807427  0.172917  0.708676  0.517597"
      ]
     },
     "execution_count": 140,
     "metadata": {},
     "output_type": "execute_result"
    }
   ],
   "source": [
    "'''Sorting the dataframe here in descending order'''\n",
    "ur_coocurence_df.sort_index(ascending=False, axis=0, inplace=True)\n",
    "ur_coocurence_df"
   ]
  },
  {
   "cell_type": "code",
   "execution_count": 141,
   "metadata": {},
   "outputs": [
    {
     "data": {
      "text/html": [
       "<div>\n",
       "<style scoped>\n",
       "    .dataframe tbody tr th:only-of-type {\n",
       "        vertical-align: middle;\n",
       "    }\n",
       "\n",
       "    .dataframe tbody tr th {\n",
       "        vertical-align: top;\n",
       "    }\n",
       "\n",
       "    .dataframe thead th {\n",
       "        text-align: right;\n",
       "    }\n",
       "</style>\n",
       "<table border=\"1\" class=\"dataframe\">\n",
       "  <thead>\n",
       "    <tr style=\"text-align: right;\">\n",
       "      <th></th>\n",
       "      <th>Similarity</th>\n",
       "    </tr>\n",
       "  </thead>\n",
       "  <tbody>\n",
       "    <tr>\n",
       "      <th>Ajinth</th>\n",
       "      <td>0.809345</td>\n",
       "    </tr>\n",
       "    <tr>\n",
       "      <th>Jessica</th>\n",
       "      <td>0.807427</td>\n",
       "    </tr>\n",
       "    <tr>\n",
       "      <th>Mark</th>\n",
       "      <td>0.172917</td>\n",
       "    </tr>\n",
       "    <tr>\n",
       "      <th>Joe</th>\n",
       "      <td>0.708676</td>\n",
       "    </tr>\n",
       "    <tr>\n",
       "      <th>Chris</th>\n",
       "      <td>0.517597</td>\n",
       "    </tr>\n",
       "  </tbody>\n",
       "</table>\n",
       "</div>"
      ],
      "text/plain": [
       "          Similarity\n",
       "Ajinth      0.809345\n",
       "Jessica     0.807427\n",
       "Mark        0.172917\n",
       "Joe         0.708676\n",
       "Chris       0.517597"
      ]
     },
     "execution_count": 141,
     "metadata": {},
     "output_type": "execute_result"
    }
   ],
   "source": [
    "ur_coocurence_df_t= ur_coocurence_df.T\n",
    "ur_coocurence_df_t.columns=['Similarity']\n",
    "ur_coocurence_df_t"
   ]
  },
  {
   "cell_type": "code",
   "execution_count": 142,
   "metadata": {},
   "outputs": [
    {
     "data": {
      "text/html": [
       "<div>\n",
       "<style scoped>\n",
       "    .dataframe tbody tr th:only-of-type {\n",
       "        vertical-align: middle;\n",
       "    }\n",
       "\n",
       "    .dataframe tbody tr th {\n",
       "        vertical-align: top;\n",
       "    }\n",
       "\n",
       "    .dataframe thead th {\n",
       "        text-align: right;\n",
       "    }\n",
       "</style>\n",
       "<table border=\"1\" class=\"dataframe\">\n",
       "  <thead>\n",
       "    <tr style=\"text-align: right;\">\n",
       "      <th></th>\n",
       "      <th>Desi_Dhaba</th>\n",
       "      <th>Dumpling_House</th>\n",
       "      <th>Caf__Luna</th>\n",
       "    </tr>\n",
       "    <tr>\n",
       "      <th>Users</th>\n",
       "      <th></th>\n",
       "      <th></th>\n",
       "      <th></th>\n",
       "    </tr>\n",
       "  </thead>\n",
       "  <tbody>\n",
       "    <tr>\n",
       "      <th>Ajinth</th>\n",
       "      <td>0.0</td>\n",
       "      <td>0.0</td>\n",
       "      <td>2.0</td>\n",
       "    </tr>\n",
       "    <tr>\n",
       "      <th>Tess</th>\n",
       "      <td>0.0</td>\n",
       "      <td>0.0</td>\n",
       "      <td>0.0</td>\n",
       "    </tr>\n",
       "    <tr>\n",
       "      <th>Jessica</th>\n",
       "      <td>0.0</td>\n",
       "      <td>0.0</td>\n",
       "      <td>1.0</td>\n",
       "    </tr>\n",
       "    <tr>\n",
       "      <th>Mark</th>\n",
       "      <td>2.0</td>\n",
       "      <td>2.0</td>\n",
       "      <td>4.0</td>\n",
       "    </tr>\n",
       "    <tr>\n",
       "      <th>Joe</th>\n",
       "      <td>0.0</td>\n",
       "      <td>0.0</td>\n",
       "      <td>8.0</td>\n",
       "    </tr>\n",
       "    <tr>\n",
       "      <th>Chris</th>\n",
       "      <td>0.0</td>\n",
       "      <td>4.0</td>\n",
       "      <td>0.0</td>\n",
       "    </tr>\n",
       "  </tbody>\n",
       "</table>\n",
       "</div>"
      ],
      "text/plain": [
       "          Desi_Dhaba  Dumpling_House   Caf__Luna\n",
       "Users                                           \n",
       "Ajinth           0.0              0.0        2.0\n",
       "Tess             0.0              0.0        0.0\n",
       "Jessica          0.0              0.0        1.0\n",
       "Mark             2.0              2.0        4.0\n",
       "Joe              0.0              0.0        8.0\n",
       "Chris            0.0              4.0        0.0"
      ]
     },
     "execution_count": 142,
     "metadata": {},
     "output_type": "execute_result"
    }
   ],
   "source": [
    "ur_restaurants_to_rate = rest_to_rate(restaurants_df)\n",
    "ur_restaurants_to_rate"
   ]
  },
  {
   "cell_type": "code",
   "execution_count": 143,
   "metadata": {},
   "outputs": [
    {
     "name": "stderr",
     "output_type": "stream",
     "text": [
      "/Users/ajinthchristudas/anaconda/lib/python3.6/site-packages/ipykernel_launcher.py:1: SettingWithCopyWarning: \n",
      "A value is trying to be set on a copy of a slice from a DataFrame\n",
      "\n",
      "See the caveats in the documentation: http://pandas.pydata.org/pandas-docs/stable/indexing.html#indexing-view-versus-copy\n",
      "  \"\"\"Entry point for launching an IPython kernel.\n"
     ]
    },
    {
     "data": {
      "text/html": [
       "<div>\n",
       "<style scoped>\n",
       "    .dataframe tbody tr th:only-of-type {\n",
       "        vertical-align: middle;\n",
       "    }\n",
       "\n",
       "    .dataframe tbody tr th {\n",
       "        vertical-align: top;\n",
       "    }\n",
       "\n",
       "    .dataframe thead th {\n",
       "        text-align: right;\n",
       "    }\n",
       "</style>\n",
       "<table border=\"1\" class=\"dataframe\">\n",
       "  <thead>\n",
       "    <tr style=\"text-align: right;\">\n",
       "      <th></th>\n",
       "      <th>Desi_Dhaba</th>\n",
       "      <th>Dumpling_House</th>\n",
       "      <th>Caf__Luna</th>\n",
       "    </tr>\n",
       "    <tr>\n",
       "      <th>Users</th>\n",
       "      <th></th>\n",
       "      <th></th>\n",
       "      <th></th>\n",
       "    </tr>\n",
       "  </thead>\n",
       "  <tbody>\n",
       "    <tr>\n",
       "      <th>Ajinth</th>\n",
       "      <td>0.0</td>\n",
       "      <td>0.0</td>\n",
       "      <td>2.0</td>\n",
       "    </tr>\n",
       "    <tr>\n",
       "      <th>Jessica</th>\n",
       "      <td>0.0</td>\n",
       "      <td>0.0</td>\n",
       "      <td>1.0</td>\n",
       "    </tr>\n",
       "    <tr>\n",
       "      <th>Mark</th>\n",
       "      <td>2.0</td>\n",
       "      <td>2.0</td>\n",
       "      <td>4.0</td>\n",
       "    </tr>\n",
       "    <tr>\n",
       "      <th>Joe</th>\n",
       "      <td>0.0</td>\n",
       "      <td>0.0</td>\n",
       "      <td>8.0</td>\n",
       "    </tr>\n",
       "    <tr>\n",
       "      <th>Chris</th>\n",
       "      <td>0.0</td>\n",
       "      <td>4.0</td>\n",
       "      <td>0.0</td>\n",
       "    </tr>\n",
       "  </tbody>\n",
       "</table>\n",
       "</div>"
      ],
      "text/plain": [
       "          Desi_Dhaba  Dumpling_House   Caf__Luna\n",
       "Users                                           \n",
       "Ajinth           0.0              0.0        2.0\n",
       "Jessica          0.0              0.0        1.0\n",
       "Mark             2.0              2.0        4.0\n",
       "Joe              0.0              0.0        8.0\n",
       "Chris            0.0              4.0        0.0"
      ]
     },
     "execution_count": 143,
     "metadata": {},
     "output_type": "execute_result"
    }
   ],
   "source": [
    "ur_restaurants_to_rate.drop(user, axis = 0, inplace=True )\n",
    "ur_restaurants_to_rate"
   ]
  },
  {
   "cell_type": "code",
   "execution_count": 144,
   "metadata": {},
   "outputs": [
    {
     "data": {
      "text/html": [
       "<div>\n",
       "<style scoped>\n",
       "    .dataframe tbody tr th:only-of-type {\n",
       "        vertical-align: middle;\n",
       "    }\n",
       "\n",
       "    .dataframe tbody tr th {\n",
       "        vertical-align: top;\n",
       "    }\n",
       "\n",
       "    .dataframe thead th {\n",
       "        text-align: right;\n",
       "    }\n",
       "</style>\n",
       "<table border=\"1\" class=\"dataframe\">\n",
       "  <thead>\n",
       "    <tr style=\"text-align: right;\">\n",
       "      <th></th>\n",
       "      <th>Desi_Dhaba</th>\n",
       "      <th>Dumpling_House</th>\n",
       "      <th>Caf__Luna</th>\n",
       "      <th>Similarity</th>\n",
       "    </tr>\n",
       "    <tr>\n",
       "      <th>Users</th>\n",
       "      <th></th>\n",
       "      <th></th>\n",
       "      <th></th>\n",
       "      <th></th>\n",
       "    </tr>\n",
       "  </thead>\n",
       "  <tbody>\n",
       "    <tr>\n",
       "      <th>Ajinth</th>\n",
       "      <td>0.0</td>\n",
       "      <td>0.0</td>\n",
       "      <td>2.0</td>\n",
       "      <td>0.809345</td>\n",
       "    </tr>\n",
       "    <tr>\n",
       "      <th>Jessica</th>\n",
       "      <td>0.0</td>\n",
       "      <td>0.0</td>\n",
       "      <td>1.0</td>\n",
       "      <td>0.807427</td>\n",
       "    </tr>\n",
       "    <tr>\n",
       "      <th>Mark</th>\n",
       "      <td>2.0</td>\n",
       "      <td>2.0</td>\n",
       "      <td>4.0</td>\n",
       "      <td>0.172917</td>\n",
       "    </tr>\n",
       "  </tbody>\n",
       "</table>\n",
       "</div>"
      ],
      "text/plain": [
       "          Desi_Dhaba  Dumpling_House   Caf__Luna  Similarity\n",
       "Users                                                       \n",
       "Ajinth           0.0              0.0        2.0    0.809345\n",
       "Jessica          0.0              0.0        1.0    0.807427\n",
       "Mark             2.0              2.0        4.0    0.172917"
      ]
     },
     "execution_count": 144,
     "metadata": {},
     "output_type": "execute_result"
    }
   ],
   "source": [
    "joint_matrix = ur_restaurants_to_rate.join(ur_coocurence_df_t, how='inner')\n",
    "# joint_df = joint_matrix.iloc[:2,:]\n",
    "joint_df = joint_matrix.iloc[:3,:]\n",
    "joint_df"
   ]
  },
  {
   "cell_type": "code",
   "execution_count": 145,
   "metadata": {},
   "outputs": [
    {
     "name": "stdout",
     "output_type": "stream",
     "text": [
      "defaultdict(<class 'list'>,\n",
      "            {'Caf__Luna': [2.0, 1.0, 4.0],\n",
      "             'Desi_Dhaba': [0.0, 0.0, 2.0],\n",
      "             'Dumpling_House ': [0.0, 0.0, 2.0],\n",
      "             'Similarity': [0.80934464827409736,\n",
      "                            0.80742676726507157,\n",
      "                            0.17291712531127049]})\n"
     ]
    }
   ],
   "source": [
    "'''Working on some more updates to the cell above'''\n",
    "\n",
    "rating_predictor_df = defaultdict(list)\n",
    "for k,v in enumerate(joint_df.iterrows()): \n",
    "    for i in range(len(v[1].index)):\n",
    "        rating = (v[1][i]) \n",
    "        restaurant = (v[1].index[i])  \n",
    "        rating_predictor_df[restaurant].append(rating)\n",
    "        \n",
    "pprint.pprint (rating_predictor_df)"
   ]
  },
  {
   "cell_type": "code",
   "execution_count": 146,
   "metadata": {},
   "outputs": [
    {
     "name": "stdout",
     "output_type": "stream",
     "text": [
      "defaultdict(<class 'int'>,\n",
      "            {'Caf__Luna': 1.7420822081013119,\n",
      "             'Desi_Dhaba': 0.19323711513412525,\n",
      "             'Dumpling_House ': 0.19323711513412525,\n",
      "             'Similarity': 0.74698867758112342})\n"
     ]
    },
    {
     "data": {
      "text/html": [
       "<div>\n",
       "<style scoped>\n",
       "    .dataframe tbody tr th:only-of-type {\n",
       "        vertical-align: middle;\n",
       "    }\n",
       "\n",
       "    .dataframe tbody tr th {\n",
       "        vertical-align: top;\n",
       "    }\n",
       "\n",
       "    .dataframe thead th {\n",
       "        text-align: right;\n",
       "    }\n",
       "</style>\n",
       "<table border=\"1\" class=\"dataframe\">\n",
       "  <thead>\n",
       "    <tr style=\"text-align: right;\">\n",
       "      <th></th>\n",
       "      <th>Tess</th>\n",
       "    </tr>\n",
       "  </thead>\n",
       "  <tbody>\n",
       "    <tr>\n",
       "      <th>Caf__Luna</th>\n",
       "      <td>1.742082</td>\n",
       "    </tr>\n",
       "    <tr>\n",
       "      <th>Similarity</th>\n",
       "      <td>0.746989</td>\n",
       "    </tr>\n",
       "    <tr>\n",
       "      <th>Desi_Dhaba</th>\n",
       "      <td>0.193237</td>\n",
       "    </tr>\n",
       "    <tr>\n",
       "      <th>Dumpling_House</th>\n",
       "      <td>0.193237</td>\n",
       "    </tr>\n",
       "  </tbody>\n",
       "</table>\n",
       "</div>"
      ],
      "text/plain": [
       "                     Tess\n",
       "Caf__Luna        1.742082\n",
       "Similarity       0.746989\n",
       "Desi_Dhaba       0.193237\n",
       "Dumpling_House   0.193237"
      ]
     },
     "execution_count": 146,
     "metadata": {},
     "output_type": "execute_result"
    }
   ],
   "source": [
    "'''Making Predictions for the User - User Collaborative Filtering'''\n",
    "rating_dict = defaultdict(int)\n",
    "\n",
    "for k,v in rating_predictor_df.items():\n",
    "    new_rating = sum(np.array(v)*np.array(rating_predictor_df['Similarity']))/sum(np.array(rating_predictor_df['Similarity']))\n",
    "    rating_dict[k] = new_rating\n",
    "\n",
    "pprint.pprint (rating_dict)\n",
    "\n",
    "rating_df = pd.DataFrame.from_dict(rating_dict, orient='index')\n",
    "rating_df.columns=[user]\n",
    "rating_df.sort_values(user, ascending=False, inplace=True)\n",
    "rating_df.head()  "
   ]
  },
  {
   "cell_type": "code",
   "execution_count": null,
   "metadata": {
    "collapsed": true
   },
   "outputs": [],
   "source": []
  },
  {
   "cell_type": "code",
   "execution_count": null,
   "metadata": {
    "collapsed": true
   },
   "outputs": [],
   "source": []
  }
 ],
 "metadata": {
  "kernelspec": {
   "display_name": "Python 3",
   "language": "python",
   "name": "python3"
  },
  "language_info": {
   "codemirror_mode": {
    "name": "ipython",
    "version": 3
   },
   "file_extension": ".py",
   "mimetype": "text/x-python",
   "name": "python",
   "nbconvert_exporter": "python",
   "pygments_lexer": "ipython3",
   "version": "3.6.1"
  }
 },
 "nbformat": 4,
 "nbformat_minor": 2
}
